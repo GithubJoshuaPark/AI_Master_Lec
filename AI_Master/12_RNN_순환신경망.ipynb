{
 "cells": [
  {
   "cell_type": "markdown",
   "metadata": {
    "id": "f8XHHT99-Slm"
   },
   "source": [
    "### Chapter 12"
   ]
  },
  {
   "cell_type": "markdown",
   "metadata": {},
   "source": [
    "# **RNN 모델 기본 원리**"
   ]
  },
  {
   "cell_type": "markdown",
   "metadata": {
    "id": "aaV6bKLx-Sls"
   },
   "source": [
    "> ## 학습 목표\n",
    "\n",
    "- RNN(순환 신경망)의 기본 원리를 이해하고, 데이터의 시퀀스 처리와 시간적 종속성을 모델링하는 방법을 설명할 수 있다.\n",
    "- 다양한 RNN 구조 및 동작 방식을 비교 분석하고, 특히 LSTM(Long Short-Term Memory)과 GRU(Gated Recurrent Unit)의 개념과 구조적 특성을 명확히 파악할 수 있다.\n",
    "- LSTM의 구성 요소(셀 상태, 게이트 메커니즘 등)에 대한 심층적인 이해를 통해, 장기 기억 문제를 해결할 수 있다. \n",
    "- PyTorch를 활용하여 RNN 및 LSTM 모델을 구현하고, 기본적인 하이퍼파라미터 조정 및 성능 평가를 수행할 수 있다."
   ]
  },
  {
   "cell_type": "markdown",
   "metadata": {},
   "source": [
    "## 12.1 RNN(순환 신경망, Recurrent Neural Network) 원리"
   ]
  },
  {
   "cell_type": "markdown",
   "metadata": {},
   "source": [
    "- RNN은 **순차적 데이터(Sequence Data)** 를 처리하는 데 적합한 신경망입니다. \n",
    "- 주로 시간적 연속성이 있는 데이터를 다루며, 자연어 처리(NLP), 음성 인식, 시계열 예측 등에서 널리 사용됩니다. \n",
    "- RNN은 일반적인 신경망과 달리 순차적 데이터를 입력받아 이전의 출력을 다음 입력에 반영하는 구조를 가집니다.\n",
    "\n",
    "### 1) RNN의 기본 원리:\n",
    "\n",
    "- **순차적 처리** : RNN은 이전 타임스텝의 출력을 현재 타임스텝의 입력으로 사용하는 방식입니다. 이로 인해 순차적인 정보가 모델에 전달됩니다.\n",
    "- **셀 상태(State)** : RNN은 각 타임스텝마다 은닉 상태(hidden state)를 업데이트하며, 이를 통해 모델은 과거의 정보를 기억합니다.\n",
    "- **기울기 소실 문제(Vanishing Gradient Problem)** : RNN은 긴 시퀀스를 다룰 때 기울기 소실 문제로 인해 학습이 어려운 경우가 많습니다. \n",
    "\n",
    "   이를 해결하기 위한 개선된 모델로 LSTM(Long Short-Term Memory)과 GRU(Gated Recurrent Unit)가 있습니다."
   ]
  },
  {
   "cell_type": "markdown",
   "metadata": {},
   "source": [
    "- RNN은 현재 입력 x와 그 이전의 상태 h를 사용하여 현재 은닉 상태를 계산한다."
   ]
  },
  {
   "cell_type": "markdown",
   "metadata": {},
   "source": [
    "<img src=\"./image/12.1_RNN 은닉상태.png\" width=\"800\"/>\n",
    "<figcaption>그림 12.1_RNN 은닉상태</figcaption>"
   ]
  },
  {
   "cell_type": "markdown",
   "metadata": {},
   "source": [
    "<img src=\"./image/12.2_RNN 순환구조.png\" width=\"700\"/>\n",
    "<figcaption>그림 12.2_RNN 순환구조</figcaption>"
   ]
  },
  {
   "cell_type": "markdown",
   "metadata": {},
   "source": [
    "### 2) RNN의 한계\n",
    "\n",
    "RNN은 시퀀스를 처리하는 데 매우 효과적이지만 다음과 같은 한계를 가지고 있습니다:\n",
    "\n",
    "-   **Vanishing Gradient Problem**: 장기 의존성을 학습하는 데 어려움을 겪는 현상으로, 기울기가 매우 작아져(사라져서) 학습이 진행되지 않거나 느려지는 문제가 발생합니다. \n",
    "\n",
    "    이는 긴 시퀀스 또는 시간적 간격의 데이터 처리 시 특히 문제됩니다.\n",
    "    \n",
    "-   **Long-Term Dependencies**: 일반적인 RNN은 장기적인 의존성 정보를 잘 포착하지 못합니다.\n",
    "\n",
    "### 3) LSTM(Long Short-Term Memory)\n",
    "\n",
    "이러한 한계를 극복하기 위해 LSTM이 고안되었습니다. LSTM은 RNN의 특별한 형태로, 다음과 같은 구성 요소를 포함합니다:\n",
    "\n",
    "-   **셀 상태(Cell State)**: 데이터를 장기적으로 기억할 수 있는 연속적 정보의 흐름을 제공합니다.\n",
    "-   **게이트(Gates)**: LSTM은 입력 게이트, 삭제 게이트, 출력 게이트의 세 가지 게이트를 사용하여 정보를 조절합니다. 각각의 게이트는 다음과 같은 역할을 수행합니다:\n",
    "    -   **입력 게이트**: 새로운 정보가 셀 상태에 추가되어야 하는지를 결정합니다.\n",
    "    -   **삭제 게이트**: 셀 상태에서 어떤 정보를 삭제해야 할지를 결정합니다.\n",
    "    -   **출력 게이트**: 셀 상태에서 어떤 정보를 출력할지를 결정합니다."
   ]
  },
  {
   "cell_type": "markdown",
   "metadata": {},
   "source": [
    "- RNN과 LSTM은 시퀀스 데이터를 모델링하는 데 매우 유용한 도구입니다. \n",
    "- RNN의 기본 원리를 이해하고, LSTM과 같은 발전된 모델의 구조와 작동 방식을 이해하면 시계열 데이터 또는 자연어 처리와 같은 복잡한 문제를 해결하는 데 큰 도움이 됩니다. \n",
    "- PyTorch를 이용한 이러한 모델의 구현은 직관적이며, 특히 RNN과 LSTM의 이점을 활용하는 데 유용합니다."
   ]
  },
  {
   "cell_type": "markdown",
   "metadata": {},
   "source": [
    "## 12.2 RNN 모델 구현"
   ]
  },
  {
   "cell_type": "code",
   "execution_count": 1,
   "metadata": {},
   "outputs": [],
   "source": [
    "import torch\n",
    "import torch.nn as nn\n",
    "import torch.optim as optim\n",
    "import torch.nn.functional as F\n",
    "from torch.utils.data import DataLoader\n",
    "from torchvision import datasets, transforms\n",
    "#torchvision: PyTorch에서 컴퓨터 비전용 데이터셋, 모델 등을 제공."
   ]
  },
  {
   "cell_type": "markdown",
   "metadata": {},
   "source": [
    "### 데이터셋 준비"
   ]
  },
  {
   "cell_type": "markdown",
   "metadata": {},
   "source": [
    "- datasets.MNIST: train=True는 훈련 데이터셋, train=False는 테스트 데이터셋을 로드합니다.\n",
    "- transforms.ToTensor(): 이미지를 텐서로 변환합니다.\n",
    "- DataLoader: 데이터를 미니배치로 나누어 학습에 사용할 수 있게 합니다."
   ]
  },
  {
   "cell_type": "code",
   "execution_count": 2,
   "metadata": {},
   "outputs": [],
   "source": [
    "# 데이터 전처리 설정\n",
    "transform = transforms.Compose([\n",
    "    transforms.ToTensor(),\n",
    "    # 이미지를 텐서로 변환\n",
    "    # transforms.ToTensor(): PIL 이미지나 NumPy 배열을 PyTorch 텐서로 변환.\n",
    "    transforms.Normalize((0.5,), (0.5,))  # 평균과 표준편차로 정규화\n",
    "])\n",
    "\n",
    "# 데이터셋 로딩\n",
    "train_dataset = datasets.MNIST(root='./data', train=True, download=True, transform=transform)\n",
    "test_dataset = datasets.MNIST(root='./data', train=False, download=True, transform=transform)\n",
    "\n",
    "# 데이터 로더 설정\n",
    "train_loader = DataLoader(train_dataset, batch_size=64, shuffle=True)\n",
    "test_loader = DataLoader(test_dataset, batch_size=64, shuffle=False)\n"
   ]
  },
  {
   "cell_type": "markdown",
   "metadata": {},
   "source": [
    "### RNN 모델 정의"
   ]
  },
  {
   "cell_type": "code",
   "execution_count": 4,
   "metadata": {},
   "outputs": [],
   "source": [
    "# 2. RNN 모델 정의\n",
    "class RNN_Model(nn.Module):\n",
    "    def __init__(self, input_size=28, hidden_size=128, output_size=10):\n",
    "        super(RNN_Model, self).__init__()\n",
    "        self.rnn = nn.RNN(input_size=input_size, hidden_size=hidden_size, batch_first=True)\n",
    "        self.fc = nn.Linear(hidden_size, output_size)\n",
    "\n",
    "    def forward(self, x):\n",
    "        # x: (batch_size, seq_len, input_size)\n",
    "        rnn_out, _ = self.rnn(x)  # (batch_size, seq_len, hidden_size)\n",
    "        out = rnn_out[:, -1, :]   # 마지막 타임스텝의 출력을 사용\n",
    "        out = self.fc(out)        # FC 층을 통해 최종 출력\n",
    "        return out\n",
    "# 3. 모델 초기화\n",
    "model = RNN_Model()"
   ]
  },
  {
   "cell_type": "markdown",
   "metadata": {},
   "source": [
    "- nn.RNN: 기본 RNN 레이어입니다. input_size=28 (각 픽셀), hidden_size=128 (RNN의 은닉 상태 차원), batch_first=True는 입력 텐서의 첫 번째 차원이 배치 크기임을 나타냅니다.\n",
    "- forward: rnn_out[:, -1, :]는 시퀀스의 마지막 타임스텝에서 나온 출력을 사용합니다. 이는 MNIST의 숫자가 하나의 시퀀스로 간주되어 각 픽셀을 하나의 타임스텝으로 처리하기 때문입니다.\n",
    "- fc: RNN의 출력을 10개의 클래스(0~9)로 변환하는 완전 연결층입니다."
   ]
  },
  {
   "cell_type": "code",
   "execution_count": 5,
   "metadata": {},
   "outputs": [],
   "source": [
    "# 4. 손실 함수와 최적화 알고리즘\n",
    "criterion = nn.CrossEntropyLoss()\n",
    "optimizer = optim.Adam(model.parameters(), lr=0.001)"
   ]
  },
  {
   "cell_type": "markdown",
   "metadata": {},
   "source": [
    "- 학습 과정에서는 각 배치에 대해 RNN 모델을 사용해 예측을 하고, CrossEntropyLoss를 사용해 손실을 계산합니다.\n",
    "- optimizer.step()을 통해 파라미터를 업데이트합니다.\n",
    "- 매 에폭마다 훈련 데이터에서 손실 값과 정확도를 출력합니다."
   ]
  },
  {
   "cell_type": "code",
   "execution_count": 6,
   "metadata": {},
   "outputs": [
    {
     "name": "stdout",
     "output_type": "stream",
     "text": [
      "Epoch [1/5], Loss: 0.7088641036135047, Accuracy: 76.64666666666666%\n",
      "Epoch [2/5], Loss: 0.32053988929718796, Accuracy: 90.64%\n",
      "Epoch [3/5], Loss: 0.2513921450275475, Accuracy: 92.85666666666667%\n",
      "Epoch [4/5], Loss: 0.21943103739701864, Accuracy: 93.70333333333333%\n",
      "Epoch [5/5], Loss: 0.20078843666006252, Accuracy: 94.35833333333333%\n"
     ]
    }
   ],
   "source": [
    "# 5. 모델 학습\n",
    "num_epochs = 5\n",
    "for epoch in range(num_epochs):\n",
    "    model.train()\n",
    "    running_loss = 0.0\n",
    "    correct = 0\n",
    "    total = 0\n",
    "    for inputs, labels in train_loader:\n",
    "        inputs, labels = inputs.squeeze(1), labels  # (batch_size, 28, 28)\n",
    "        inputs = inputs.view(-1, 28, 28)  # (batch_size, seq_len=28, input_size=28)\n",
    "\n",
    "        optimizer.zero_grad()\n",
    "        outputs = model(inputs)  # RNN 모델을 통해 출력값 계산\n",
    "        loss = criterion(outputs, labels)\n",
    "        loss.backward()\n",
    "        optimizer.step()\n",
    "\n",
    "        running_loss += loss.item()\n",
    "        _, predicted = torch.max(outputs, 1)\n",
    "        correct += (predicted == labels).sum().item()\n",
    "        total += labels.size(0)\n",
    "\n",
    "    print(f\"Epoch [{epoch+1}/{num_epochs}], Loss: {running_loss/len(train_loader)}, Accuracy: {100 * correct / total}%\")"
   ]
  },
  {
   "cell_type": "code",
   "execution_count": 7,
   "metadata": {},
   "outputs": [
    {
     "name": "stdout",
     "output_type": "stream",
     "text": [
      "Test Accuracy: 94.46%\n"
     ]
    }
   ],
   "source": [
    "# 6. 모델 평가\n",
    "model.eval()\n",
    "correct = 0\n",
    "total = 0\n",
    "with torch.no_grad():\n",
    "    for inputs, labels in test_loader:\n",
    "        inputs, labels = inputs.squeeze(1), labels\n",
    "        inputs = inputs.view(-1, 28, 28)  # (batch_size, seq_len=28, input_size=28)\n",
    "        outputs = model(inputs)\n",
    "        _, predicted = torch.max(outputs, 1)\n",
    "        correct += (predicted == labels).sum().item()\n",
    "        total += labels.size(0)\n",
    "\n",
    "print(f\"Test Accuracy: {100 * correct / total}%\")\n",
    "\n",
    "# model.eval()은 평가 모드로 설정하여 dropout 같은 레이어를 비활성화합니다.\n",
    "# 테스트 데이터에 대해 예측을 수행하고 정확도를 계산합니다."
   ]
  },
  {
   "cell_type": "markdown",
   "metadata": {},
   "source": [
    "### 예측 결과 시각화 "
   ]
  },
  {
   "cell_type": "markdown",
   "metadata": {},
   "source": [
    "**생각해 보기**\n",
    "1. NumPy 배열을 PyTorch 텐서로 변환: img가 numpy.ndarray이므로, 이를 torch.tensor(img).float()로 변환하여 PyTorch 텐서로 만듭니다. float()는 텐서의 타입을 float32로 변환하는 것입니다. 만약 MNIST 이미지가 이미 torch.Tensor라면 이 변환은 필요 없습니다.\n",
    "2. unsqueeze() 사용: img_tensor.unsqueeze(0)를 사용하여 배치 차원을 추가합니다. unsqueeze(0)은 텐서 앞에 하나의 차원을 추가하여 (1, 28, 28) 형태로 만듭니다. 이렇게 해야 RNN 모델에 입력으로 사용할 수 있습니다.\n",
    "3. img 시각화: plt.imshow(img, cmap='gray')를 사용하여 이미지를 시각화합니다. img는 이미 (28, 28) 크기이므로 이 부분은 numpy 배열을 그대로 사용합니다.  "
   ]
  },
  {
   "cell_type": "code",
   "execution_count": 8,
   "metadata": {},
   "outputs": [
    {
     "data": {
      "image/png": "[encoded data removed]",
      "text/plain": [
       "<Figure size 640x480 with 1 Axes>"
      ]
     },
     "metadata": {},
     "output_type": "display_data"
    }
   ],
   "source": [
    "# 7. 예측 결과 시각화\n",
    "import torch\n",
    "import random\n",
    "import matplotlib.pyplot as plt\n",
    "\n",
    "# 테스트 데이터에서 랜덤 샘플을 선택\n",
    "model.eval()\n",
    "images, labels = next(iter(test_loader))\n",
    "random_idx = random.randint(0, len(images) - 1)\n",
    "\n",
    "# 랜덤 이미지와 레이블\n",
    "img = images[random_idx]\n",
    "label = labels[random_idx]\n",
    "\n",
    "# 이미지를 원본 형태로 변환 (채널 순서 바꾸기, MNIST는 (1,28,28))\n",
    "img = img.squeeze(0).numpy()  # (28, 28)\n",
    "\n",
    "# NumPy 배열을 PyTorch 텐서로 변환\n",
    "# img는 numpy.ndarray이므로 이를 torch.tensor(img)로 변환하고 float()로 형 변환합니다.\n",
    "img_tensor = torch.tensor(img).float()\n",
    "\n",
    "# 모델 예측\n",
    "# unsqueeze() 메서드는 PyTorch 텐서에만 존재하므로, numpy.ndarray를 PyTorch 텐서로 변환한 후 unsqueeze()를 사용해야 합니다.\n",
    "output = model(img_tensor.unsqueeze(0))  # unsqueeze로 배치 차원 추가, (1, 28, 28)\n",
    "_, predicted_label = torch.max(output, 1)\n",
    "\n",
    "# 예측 결과 시각화\n",
    "plt.imshow(img, cmap='gray')\n",
    "plt.title(f\"True Label: {label}, Predicted: {predicted_label.item()}\")\n",
    "plt.axis('off')\n",
    "plt.show()"
   ]
  },
  {
   "cell_type": "markdown",
   "metadata": {},
   "source": [
    "## 12.3 LSTM(Long Short-Term Memory)"
   ]
  },
  {
   "cell_type": "markdown",
   "metadata": {},
   "source": [
    "**LSTM(Long Short-Term Memory)** 는 순환 신경망(RNN : Recurrent Neural Network)의 일종으로, **장기적인 의존 관계(장기적인 종속성 : long-term dependencies)** 를 더 잘 처리할 수 있도록 설계된 아키텍처입니다. 기존의 RNN의 발전형으로 장기 기억 문제(long-term dependencies 문제)와 기울기 소실(vanishing gradient) 문제를 해결하기 위해 고안된 것입니다. LSTM은 1997년 Sepp Hochreiter와 Jürgen Schmidhuber에 의해 처음 제안되었습니다.\n",
    "\n",
    "**1) LSTM(Long Short-Term Memory) 구성 요소**\n",
    "\n",
    "-   **셀 상태 (Cell State)**:\n",
    "    \n",
    "    -   장기 메모리 역할을 하며, 시퀀스 데이터를 처리하는 동안 정보를 전송합니다.\n",
    "    -   셀 상태는 시퀀스의 모든 타임 스텝에서 정보를 유지하고 업데이트할 수 있어, 장기 의존성을 잘 처리할 수 있도록 도와줍니다.\n",
    "    \n",
    "-   **입력 게이트 (Input Gate)**:\n",
    "    \n",
    "    -   현재 입력 정보를 셀 상태에 얼마나 추가할지를 결정합니다.\n",
    "    -   이 게이트는 현재 입력 xtx\\_txt와 이전 은닉 상태 ht−1h\\_{t-1}ht−1에 기반하여 새로운 정보를 얼마나 반영할 것인지를 학습하며, 이를 통해 새로운 정보가 셀 상태에 추가됩니다.\n",
    "    \n",
    "-   **망각 게이트 (Forget Gate)**:\n",
    "    \n",
    "    -   이전 셀 상태에서 어떤 정보를 삭제할지를 결정합니다.\n",
    "    -   이 게이트는 이전 은닉 상태와 현재 입력을 기반으로 작동하여, 불필요한 정보를 선택적으로 잃어버리는데 도움을 줍니다. 이를 통해 모델은 유용한 정보만 유지할 수 있습니다.\n",
    "    \n",
    "-   **출력 게이트 (Output Gate)**:\n",
    "    \n",
    "    -   최종 출력을 계산할 때 셀 상태를 얼마나 반영할지를 결정합니다.\n",
    "    -   LSTM의 출력은 셀 상태와 이 게이트의 조합으로 만들어지며, 출력을 결정할 때 현재 셀 상태의 정보를 얼마나 반영할지를 조절합니다. 이 과정에서 시퀀스의 의미 있는 정보를 다음 단계로 전달합니다.\n",
    "\n",
    "**2) LSTM의 동작 과정**\n",
    "\n",
    "LSTM의 각 타임 스텝에서는 위에서 정의한 게이트를 사용하여 다음과 같은 과정을 따릅니다:\n",
    "\n",
    "  -  **입력 게이트**는 현재 입력 및 이전 은닉 상태에 기반하여 새로운 데이터를 셀 상태에 얼마나 반영할지 결정합니다.\n",
    "  -  **삭제 게이트**는 이전 셀 상태에서 어떤 정보를 잃어버릴지를 결정합니다.\n",
    "  -  **셀 상태**는 새로 입력된 정보와 이전 상태 정보를 결합하여 업데이트됩니다.\n",
    "  -  **출력 게이트**는 업데이트된 셀 상태를 기반으로 출력할 정보를 결정합니다.\n",
    "\n",
    "**3) LSTM의 주요 장점**\n",
    "\n",
    "  -   **장기 의존성 문제 해결**: LSTM은 긴 시퀀스를 처리할 수 있는 능력이 뛰어나며, 정보를 오랜 시간 동안 유지할 수 있습니다.\n",
    "  -   **기울기 소실 문제 완화**: LSTM의 구조는 기울기 소실 문제를 완화하여 좀 더 안정적인 학습을 가능하게 합니다.\n",
    "  -   **유연성**: LSTM은 텍스트, 음성 인식, 시계열 데이터 분석 등 다양한 시퀀스 데이터에 널리 적용됩니다.\n",
    "\n",
    "**4) LSTM의 사용 예**\n",
    "\n",
    "RNN 또는 LSTM은 다음과 같은 다양한 분야에서 많이 사용됩니다:\n",
    "\n",
    "  -   **자연어 처리 (NLP)**: 문장의 문맥을 이해하고 다음 단어를 예측하는 데 사용됩니다.\n",
    "  -   **음성 인식**: 주어진 음성 데이터를 텍스트로 변환하는 모델에서 사용됩니다.\n",
    "  -   **시계열 예측**: 주식 시장 예측과 같은 연속적인 데이터를 분석할 때도 사용됩니다."
   ]
  },
  {
   "cell_type": "markdown",
   "metadata": {},
   "source": [
    "> ## LSTM을 이용한 예제 : MNIST 숫자 분류\n",
    "- 모델 정의 생각해 보기\n",
    "- 입력 크기: MNIST 이미지의 각 행은 28개의 픽셀로 구성되어 있으므로, 각 입력 벡터의 크기는 28입니다.\n",
    "- LSTM 층: LSTM은 input_size=28과 hidden_size=128로 설정됩니다. batch_first=True는 입력 텐서의 차원이 (batch_size, seq_len, input_size)임을 의미합니다.\n",
    "- Fully Connected Layer: LSTM의 출력을 입력받아 최종 10개의 클래스 중 하나를 예측합니다."
   ]
  },
  {
   "cell_type": "markdown",
   "metadata": {},
   "source": [
    "### **1) 라이브러리 임포트 및 데이터 로드**"
   ]
  },
  {
   "cell_type": "code",
   "execution_count": 9,
   "metadata": {},
   "outputs": [],
   "source": [
    "import torch\n",
    "import torch.nn as nn\n",
    "import torch.optim as optim\n",
    "from torchvision import datasets, transforms\n",
    "from torch.utils.data import DataLoader\n",
    "import matplotlib.pyplot as plt\n",
    "\n",
    "# 장치 설정\n",
    "device = torch.device(\"cuda\" if torch.cuda.is_available() else \"cpu\")\n",
    "\n",
    "# 데이터 변환 설정\n",
    "transform = transforms.Compose([\n",
    "    transforms.ToTensor(),\n",
    "    transforms.Normalize((0.5,), (0.5,))\n",
    "])\n",
    "\n",
    "# MNIST 데이터셋 로드\n",
    "train_dataset = datasets.MNIST(root='./data', train=True, download=True, transform=transform)\n",
    "test_dataset = datasets.MNIST(root='./data', train=False, download=True, transform=transform)\n",
    "\n",
    "train_loader = DataLoader(dataset=train_dataset, batch_size=64, shuffle=True)\n",
    "test_loader = DataLoader(dataset=test_dataset, batch_size=64, shuffle=False)"
   ]
  },
  {
   "cell_type": "markdown",
   "metadata": {},
   "source": [
    "### **2) LSTM 모델 정의**"
   ]
  },
  {
   "cell_type": "code",
   "execution_count": 10,
   "metadata": {},
   "outputs": [],
   "source": [
    "# LSTM 모델 정의\n",
    "class LSTMModel(nn.Module):\n",
    "    def __init__(self, input_size=28, hidden_size=128, output_size=10):\n",
    "        super(LSTMModel, self).__init__()\n",
    "        self.lstm = nn.LSTM(input_size, hidden_size, batch_first=True)\n",
    "        self.fc = nn.Linear(hidden_size, output_size)\n",
    "\n",
    "    def forward(self, x):\n",
    "        x = x.view(x.size(0), 28, 28)  # (batch_size, seq_len, input_size)\n",
    "        out, _ = self.lstm(x)  # LSTM 처리\n",
    "        out = self.fc(out[:, -1, :])  # 마지막 시퀀스의 출력\n",
    "        return out"
   ]
  },
  {
   "cell_type": "markdown",
   "metadata": {},
   "source": [
    "### **3) 손실 함수 및 옵티마이저 설정**"
   ]
  },
  {
   "cell_type": "code",
   "execution_count": 11,
   "metadata": {},
   "outputs": [],
   "source": [
    "# 모델, 손실 함수 및 옵티마이저 설정\n",
    "model = LSTMModel().to(device)\n",
    "criterion = nn.CrossEntropyLoss()\n",
    "optimizer = optim.Adam(model.parameters(), lr=0.001)"
   ]
  },
  {
   "cell_type": "markdown",
   "metadata": {},
   "source": [
    "### **4) 훈련 및 평가 함수 정의**"
   ]
  },
  {
   "cell_type": "code",
   "execution_count": 13,
   "metadata": {},
   "outputs": [],
   "source": [
    "# 손실과 정확도를 기록할 리스트 초기화\n",
    "train_losses = []\n",
    "test_losses = []\n",
    "accuracies = []\n",
    "\n",
    "# 훈련 및 평가 함수 정의\n",
    "def train(model, device, train_loader, optimizer, epoch):\n",
    "    model.train()\n",
    "    total_loss = 0\n",
    "    for batch_idx, (data, target) in enumerate(train_loader):\n",
    "        data, target = data.to(device), target.to(device)\n",
    "        optimizer.zero_grad()  # 기울기 초기화\n",
    "        output = model(data)  # 예측\n",
    "        loss = criterion(output, target)  # 손실 계산\n",
    "        loss.backward()  # 역전파\n",
    "        optimizer.step()  # 가중치 업데이트\n",
    "\n",
    "        total_loss += loss.item()\n",
    "\n",
    "        if batch_idx % 100 == 0:\n",
    "            print(f'Train Epoch: {epoch} [{batch_idx * len(data)}/{len(train_loader.dataset)}'\n",
    "                  f' ({100. * batch_idx / len(train_loader):.0f}%)]\\tLoss: {loss.item():.6f}')\n",
    "\n",
    "    return total_loss / len(train_loader)  # 평균 손실 반환\n",
    "\n",
    "\n",
    "def test(model, device, test_loader):\n",
    "    model.eval()\n",
    "    test_loss = 0\n",
    "    correct = 0\n",
    "    with torch.no_grad():\n",
    "        for data, target in test_loader:\n",
    "            data, target = data.to(device), target.to(device)\n",
    "            output = model(data)\n",
    "            test_loss += criterion(output, target).item() * data.size(0)\n",
    "            # 배치 손실 합산\n",
    "\n",
    "            pred = output.argmax(dim=1, keepdim=True)\n",
    "            # 가장 높은 값을 가진 클래스 선택\n",
    "            correct += pred.eq(target.view_as(pred)).sum().item()\n",
    "\n",
    "    test_loss /= len(test_loader.dataset)  # 평균 손실 계산\n",
    "    accuracy = 100. * correct / len(test_loader.dataset)  # 정확도 계산\n",
    "    print(f'\\nTest set: Average loss: {test_loss:.4f}, Accuracy: {correct}/{len(test_loader.dataset)}'\n",
    "        f' ({accuracy:.2f}%)\\n')\n",
    "\n",
    "    return test_loss, accuracy  # 손실과 정확도 반환"
   ]
  },
  {
   "cell_type": "markdown",
   "metadata": {},
   "source": [
    "### **5) 모델 훈련 실행**"
   ]
  },
  {
   "cell_type": "code",
   "execution_count": 14,
   "metadata": {},
   "outputs": [
    {
     "name": "stdout",
     "output_type": "stream",
     "text": [
      "Train Epoch: 1 [0/60000 (0%)]\tLoss: 2.293381\n",
      "Train Epoch: 1 [6400/60000 (11%)]\tLoss: 0.538286\n",
      "Train Epoch: 1 [12800/60000 (21%)]\tLoss: 0.359694\n",
      "Train Epoch: 1 [19200/60000 (32%)]\tLoss: 0.292657\n",
      "Train Epoch: 1 [25600/60000 (43%)]\tLoss: 0.336873\n",
      "Train Epoch: 1 [32000/60000 (53%)]\tLoss: 0.468001\n",
      "Train Epoch: 1 [38400/60000 (64%)]\tLoss: 0.111643\n",
      "Train Epoch: 1 [44800/60000 (75%)]\tLoss: 0.152754\n",
      "Train Epoch: 1 [51200/60000 (85%)]\tLoss: 0.088536\n",
      "Train Epoch: 1 [57600/60000 (96%)]\tLoss: 0.025141\n",
      "\n",
      "Test set: Average loss: 0.1367, Accuracy: 9601/10000 (96.01%)\n",
      "\n",
      "Train Epoch: 2 [0/60000 (0%)]\tLoss: 0.236246\n",
      "Train Epoch: 2 [6400/60000 (11%)]\tLoss: 0.087204\n",
      "Train Epoch: 2 [12800/60000 (21%)]\tLoss: 0.066595\n",
      "Train Epoch: 2 [19200/60000 (32%)]\tLoss: 0.156523\n",
      "Train Epoch: 2 [25600/60000 (43%)]\tLoss: 0.098213\n",
      "Train Epoch: 2 [32000/60000 (53%)]\tLoss: 0.071844\n",
      "Train Epoch: 2 [38400/60000 (64%)]\tLoss: 0.092790\n",
      "Train Epoch: 2 [44800/60000 (75%)]\tLoss: 0.020977\n",
      "Train Epoch: 2 [51200/60000 (85%)]\tLoss: 0.077562\n",
      "Train Epoch: 2 [57600/60000 (96%)]\tLoss: 0.088337\n",
      "\n",
      "Test set: Average loss: 0.0970, Accuracy: 9713/10000 (97.13%)\n",
      "\n",
      "Train Epoch: 3 [0/60000 (0%)]\tLoss: 0.020950\n",
      "Train Epoch: 3 [6400/60000 (11%)]\tLoss: 0.120843\n",
      "Train Epoch: 3 [12800/60000 (21%)]\tLoss: 0.046786\n",
      "Train Epoch: 3 [19200/60000 (32%)]\tLoss: 0.021089\n",
      "Train Epoch: 3 [25600/60000 (43%)]\tLoss: 0.138260\n",
      "Train Epoch: 3 [32000/60000 (53%)]\tLoss: 0.033624\n",
      "Train Epoch: 3 [38400/60000 (64%)]\tLoss: 0.084613\n",
      "Train Epoch: 3 [44800/60000 (75%)]\tLoss: 0.057316\n",
      "Train Epoch: 3 [51200/60000 (85%)]\tLoss: 0.128973\n",
      "Train Epoch: 3 [57600/60000 (96%)]\tLoss: 0.018071\n",
      "\n",
      "Test set: Average loss: 0.0865, Accuracy: 9745/10000 (97.45%)\n",
      "\n",
      "Train Epoch: 4 [0/60000 (0%)]\tLoss: 0.104342\n",
      "Train Epoch: 4 [6400/60000 (11%)]\tLoss: 0.048148\n",
      "Train Epoch: 4 [12800/60000 (21%)]\tLoss: 0.104825\n",
      "Train Epoch: 4 [19200/60000 (32%)]\tLoss: 0.057661\n",
      "Train Epoch: 4 [25600/60000 (43%)]\tLoss: 0.105176\n",
      "Train Epoch: 4 [32000/60000 (53%)]\tLoss: 0.021867\n",
      "Train Epoch: 4 [38400/60000 (64%)]\tLoss: 0.049468\n",
      "Train Epoch: 4 [44800/60000 (75%)]\tLoss: 0.023736\n",
      "Train Epoch: 4 [51200/60000 (85%)]\tLoss: 0.112049\n",
      "Train Epoch: 4 [57600/60000 (96%)]\tLoss: 0.010521\n",
      "\n",
      "Test set: Average loss: 0.0660, Accuracy: 9793/10000 (97.93%)\n",
      "\n",
      "Train Epoch: 5 [0/60000 (0%)]\tLoss: 0.019863\n",
      "Train Epoch: 5 [6400/60000 (11%)]\tLoss: 0.007212\n",
      "Train Epoch: 5 [12800/60000 (21%)]\tLoss: 0.005799\n",
      "Train Epoch: 5 [19200/60000 (32%)]\tLoss: 0.082165\n",
      "Train Epoch: 5 [25600/60000 (43%)]\tLoss: 0.009876\n",
      "Train Epoch: 5 [32000/60000 (53%)]\tLoss: 0.034735\n",
      "Train Epoch: 5 [38400/60000 (64%)]\tLoss: 0.004038\n",
      "Train Epoch: 5 [44800/60000 (75%)]\tLoss: 0.073434\n",
      "Train Epoch: 5 [51200/60000 (85%)]\tLoss: 0.088294\n",
      "Train Epoch: 5 [57600/60000 (96%)]\tLoss: 0.178047\n",
      "\n",
      "Test set: Average loss: 0.0555, Accuracy: 9825/10000 (98.25%)\n",
      "\n"
     ]
    }
   ],
   "source": [
    "# 모델 훈련 및 평가 실행\n",
    "num_epochs = 5\n",
    "for epoch in range(1, num_epochs + 1):\n",
    "    train_loss = train(model, device, train_loader, optimizer, epoch)\n",
    "    test_loss, accuracy = test(model, device, test_loader)\n",
    "\n",
    "    # 손실과 정확도 기록\n",
    "    train_losses.append(train_loss)\n",
    "    test_losses.append(test_loss)\n",
    "    accuracies.append(accuracy)"
   ]
  },
  {
   "cell_type": "code",
   "execution_count": 15,
   "metadata": {},
   "outputs": [
    {
     "name": "stdout",
     "output_type": "stream",
     "text": [
      "\n",
      "Training Losses: [0.39880100423013415, 0.10825495708878757, 0.07400155383602047, 0.058854039645255374, 0.04857855123705539]\n",
      "Test Losses: [0.13668499437123538, 0.09695999261513352, 0.0865009410187602, 0.0660091327957809, 0.055509263353794816]\n",
      "Accuracies: [96.01, 97.13, 97.45, 97.93, 98.25]\n"
     ]
    }
   ],
   "source": [
    "# 훈련 손실, 테스트 손실, 정확도 리스트 출력\n",
    "print(\"\\nTraining Losses:\", train_losses)\n",
    "print(\"Test Losses:\", test_losses)\n",
    "print(\"Accuracies:\", accuracies)"
   ]
  },
  {
   "cell_type": "markdown",
   "metadata": {},
   "source": [
    "### **6) MNIST 데이터셋을 LSTM 모델로 학습한 후, 훈련 손실, 테스트 손실 및 정확도를 시각화**"
   ]
  },
  {
   "cell_type": "code",
   "execution_count": 16,
   "metadata": {},
   "outputs": [
    {
     "data": {
      "image/png": "[encoded data removed]",
      "text/plain": [
       "<Figure size 1200x500 with 2 Axes>"
      ]
     },
     "metadata": {},
     "output_type": "display_data"
    }
   ],
   "source": [
    "# 시각화 코드\n",
    "# 결과 시각화\n",
    "plt.figure(figsize=(12, 5))\n",
    "\n",
    "# 손실 그래프\n",
    "plt.subplot(1, 2, 1)\n",
    "plt.plot(range(1, num_epochs + 1), train_losses, label='Train Loss', color='blue')\n",
    "plt.plot(range(1, num_epochs + 1), test_losses, label='Test Loss', color='red')\n",
    "plt.title('Loss over Epochs')\n",
    "plt.xlabel('Epochs')\n",
    "plt.ylabel('Loss')\n",
    "plt.legend()\n",
    "plt.grid()\n",
    "\n",
    "# 정확도 그래프\n",
    "plt.subplot(1, 2, 2)\n",
    "plt.plot(range(1, num_epochs + 1), accuracies, label='Accuracy', color='orange')\n",
    "plt.title('Accuracy over Epochs')\n",
    "plt.xlabel('Epochs')\n",
    "plt.ylabel('Accuracy (%)')\n",
    "plt.ylim(0, 100)  # Y축 범위 설정\n",
    "\n",
    "plt.legend()\n",
    "plt.grid()\n",
    "\n",
    "plt.tight_layout()\n",
    "plt.show()  # 그래프 출력"
   ]
  },
  {
   "cell_type": "code",
   "execution_count": 17,
   "metadata": {},
   "outputs": [
    {
     "name": "stdout",
     "output_type": "stream",
     "text": [
      "Train Epoch: 1 [0/60000 (0%)]\tLoss: 2.315282\n",
      "Train Epoch: 1 [6400/60000 (11%)]\tLoss: 0.966772\n",
      "Train Epoch: 1 [12800/60000 (21%)]\tLoss: 0.316047\n",
      "Train Epoch: 1 [19200/60000 (32%)]\tLoss: 0.344433\n",
      "Train Epoch: 1 [25600/60000 (43%)]\tLoss: 0.444352\n",
      "Train Epoch: 1 [32000/60000 (53%)]\tLoss: 0.176272\n",
      "Train Epoch: 1 [38400/60000 (64%)]\tLoss: 0.311414\n",
      "Train Epoch: 1 [44800/60000 (75%)]\tLoss: 0.192841\n",
      "Train Epoch: 1 [51200/60000 (85%)]\tLoss: 0.058833\n",
      "Train Epoch: 1 [57600/60000 (96%)]\tLoss: 0.053458\n",
      "Test set: Average loss: 0.1365, Accuracy: 9568/10000 (95.68%)\n",
      "\n",
      "Train Epoch: 2 [0/60000 (0%)]\tLoss: 0.221635\n",
      "Train Epoch: 2 [6400/60000 (11%)]\tLoss: 0.157167\n",
      "Train Epoch: 2 [12800/60000 (21%)]\tLoss: 0.079348\n",
      "Train Epoch: 2 [19200/60000 (32%)]\tLoss: 0.054330\n",
      "Train Epoch: 2 [25600/60000 (43%)]\tLoss: 0.140218\n",
      "Train Epoch: 2 [32000/60000 (53%)]\tLoss: 0.058502\n",
      "Train Epoch: 2 [38400/60000 (64%)]\tLoss: 0.163832\n",
      "Train Epoch: 2 [44800/60000 (75%)]\tLoss: 0.033793\n",
      "Train Epoch: 2 [51200/60000 (85%)]\tLoss: 0.106268\n",
      "Train Epoch: 2 [57600/60000 (96%)]\tLoss: 0.128059\n",
      "Test set: Average loss: 0.0956, Accuracy: 9698/10000 (96.98%)\n",
      "\n",
      "Train Epoch: 3 [0/60000 (0%)]\tLoss: 0.063124\n",
      "Train Epoch: 3 [6400/60000 (11%)]\tLoss: 0.045682\n",
      "Train Epoch: 3 [12800/60000 (21%)]\tLoss: 0.050307\n",
      "Train Epoch: 3 [19200/60000 (32%)]\tLoss: 0.153205\n",
      "Train Epoch: 3 [25600/60000 (43%)]\tLoss: 0.037585\n",
      "Train Epoch: 3 [32000/60000 (53%)]\tLoss: 0.114421\n",
      "Train Epoch: 3 [38400/60000 (64%)]\tLoss: 0.010343\n",
      "Train Epoch: 3 [44800/60000 (75%)]\tLoss: 0.126265\n",
      "Train Epoch: 3 [51200/60000 (85%)]\tLoss: 0.019271\n",
      "Train Epoch: 3 [57600/60000 (96%)]\tLoss: 0.128919\n",
      "Test set: Average loss: 0.0707, Accuracy: 9784/10000 (97.84%)\n",
      "\n",
      "Train Epoch: 4 [0/60000 (0%)]\tLoss: 0.065903\n",
      "Train Epoch: 4 [6400/60000 (11%)]\tLoss: 0.039839\n",
      "Train Epoch: 4 [12800/60000 (21%)]\tLoss: 0.050423\n",
      "Train Epoch: 4 [19200/60000 (32%)]\tLoss: 0.049898\n",
      "Train Epoch: 4 [25600/60000 (43%)]\tLoss: 0.023737\n",
      "Train Epoch: 4 [32000/60000 (53%)]\tLoss: 0.028468\n",
      "Train Epoch: 4 [38400/60000 (64%)]\tLoss: 0.043434\n",
      "Train Epoch: 4 [44800/60000 (75%)]\tLoss: 0.085374\n",
      "Train Epoch: 4 [51200/60000 (85%)]\tLoss: 0.108083\n",
      "Train Epoch: 4 [57600/60000 (96%)]\tLoss: 0.155291\n",
      "Test set: Average loss: 0.0828, Accuracy: 9743/10000 (97.43%)\n",
      "\n",
      "Train Epoch: 5 [0/60000 (0%)]\tLoss: 0.098444\n",
      "Train Epoch: 5 [6400/60000 (11%)]\tLoss: 0.047805\n",
      "Train Epoch: 5 [12800/60000 (21%)]\tLoss: 0.052230\n",
      "Train Epoch: 5 [19200/60000 (32%)]\tLoss: 0.006483\n",
      "Train Epoch: 5 [25600/60000 (43%)]\tLoss: 0.003559\n",
      "Train Epoch: 5 [32000/60000 (53%)]\tLoss: 0.104938\n",
      "Train Epoch: 5 [38400/60000 (64%)]\tLoss: 0.011961\n",
      "Train Epoch: 5 [44800/60000 (75%)]\tLoss: 0.003346\n",
      "Train Epoch: 5 [51200/60000 (85%)]\tLoss: 0.007646\n",
      "Train Epoch: 5 [57600/60000 (96%)]\tLoss: 0.102798\n",
      "Test set: Average loss: 0.0462, Accuracy: 9850/10000 (98.50%)\n",
      "\n",
      "\n",
      "Training Losses: [0.43355586648638694, 0.10860744118839423, 0.07346945490960136, 0.056496787551931466, 0.04857976599879412]\n",
      "Test Losses: [0.13650850142538548, 0.09562312518730759, 0.07074379425272345, 0.08277758931480349, 0.04622814331073314]\n",
      "Accuracies: [95.68, 96.98, 97.84, 97.43, 98.5]\n"
     ]
    },
    {
     "data": {
      "image/png": "[encoded data removed]",
      "text/plain": [
       "<Figure size 1200x500 with 2 Axes>"
      ]
     },
     "metadata": {},
     "output_type": "display_data"
    }
   ],
   "source": [
    "import torch\n",
    "import torch.nn as nn\n",
    "import torch.optim as optim\n",
    "from torchvision import datasets, transforms\n",
    "from torch.utils.data import DataLoader\n",
    "import matplotlib.pyplot as plt\n",
    "\n",
    "# 장치 설정\n",
    "device = torch.device(\"cuda\" if torch.cuda.is_available() else \"cpu\")\n",
    "\n",
    "# 데이터 변환 설정\n",
    "transform = transforms.Compose([\n",
    "    transforms.ToTensor(),\n",
    "    transforms.Normalize((0.5,), (0.5,))\n",
    "])\n",
    "\n",
    "# MNIST 데이터셋 로드\n",
    "train_dataset = datasets.MNIST(root='./data', train=True, download=True, transform=transform)\n",
    "test_dataset = datasets.MNIST(root='./data', train=False, download=True, transform=transform)\n",
    "\n",
    "train_loader = DataLoader(dataset=train_dataset, batch_size=64, shuffle=True)\n",
    "test_loader = DataLoader(dataset=test_dataset, batch_size=64, shuffle=False)\n",
    "\n",
    "# LSTM 모델 정의\n",
    "class LSTMModel(nn.Module):\n",
    "    def __init__(self, input_size=28, hidden_size=128, output_size=10):\n",
    "        super(LSTMModel, self).__init__()\n",
    "        self.lstm = nn.LSTM(input_size, hidden_size, batch_first=True)\n",
    "        self.fc = nn.Linear(hidden_size, output_size)\n",
    "\n",
    "    def forward(self, x):\n",
    "        x = x.view(x.size(0), 28, 28)  # (batch_size, seq_len, input_size)\n",
    "        out, _ = self.lstm(x)  # LSTM 처리\n",
    "        out = self.fc(out[:, -1, :])  # 마지막 시퀀스의 출력\n",
    "        return out\n",
    "\n",
    "# 모델, 손실 함수 및 옵티마이저 설정\n",
    "model = LSTMModel().to(device)\n",
    "criterion = nn.CrossEntropyLoss()\n",
    "optimizer = optim.Adam(model.parameters(), lr=0.001)\n",
    "\n",
    "# 손실과 정확도를 기록할 리스트 초기화\n",
    "train_losses = []\n",
    "test_losses = []\n",
    "accuracies = []\n",
    "\n",
    "# 훈련 및 평가 함수 정의\n",
    "def train(model, device, train_loader, optimizer, epoch):\n",
    "    model.train()\n",
    "    total_loss = 0\n",
    "    for batch_idx, (data, target) in enumerate(train_loader):\n",
    "        data, target = data.to(device), target.to(device)\n",
    "        optimizer.zero_grad()  # 기울기 초기화\n",
    "        output = model(data)  # 예측\n",
    "        loss = criterion(output, target)  # 손실 계산\n",
    "        loss.backward()  # 역전파\n",
    "        optimizer.step()  # 가중치 업데이트\n",
    "\n",
    "        total_loss += loss.item()\n",
    "\n",
    "        if batch_idx % 100 == 0:\n",
    "            print(f'Train Epoch: {epoch} [{batch_idx * len(data)}/{len(train_loader.dataset)}'\n",
    "                  f' ({100. * batch_idx / len(train_loader):.0f}%)]\\tLoss: {loss.item():.6f}')\n",
    "\n",
    "    average_loss = total_loss / len(train_loader)  # 평균 손실 반환\n",
    "    return average_loss\n",
    "\n",
    "\n",
    "def test(model, device, test_loader):\n",
    "    model.eval()\n",
    "    test_loss = 0\n",
    "    correct = 0\n",
    "    with torch.no_grad():\n",
    "        for data, target in test_loader:\n",
    "            data, target = data.to(device), target.to(device)\n",
    "            output = model(data)\n",
    "            test_loss += criterion(output, target).item() * data.size(0)\n",
    "            # 배치 손실 합산\n",
    "            pred = output.argmax(dim=1, keepdim=True)\n",
    "            # 가장 높은 값을 가진 클래스 선택\n",
    "            correct += pred.eq(target.view_as(pred)).sum().item()\n",
    "\n",
    "    average_loss = test_loss / len(test_loader.dataset)  # 평균 손실 계산\n",
    "    accuracy = 100. * correct / len(test_loader.dataset)  # 정확도 계산\n",
    "    print(f'Test set: Average loss: {average_loss:.4f}, Accuracy: {correct}/{len(test_loader.dataset)}'\n",
    "        f' ({accuracy:.2f}%)\\n')\n",
    "\n",
    "    return average_loss, accuracy  # 손실과 정확도 반환\n",
    "\n",
    "# 모델 훈련 및 평가 실행\n",
    "num_epochs = 5\n",
    "for epoch in range(1, num_epochs + 1):\n",
    "    train_loss = train(model, device, train_loader, optimizer, epoch)\n",
    "    test_loss, accuracy = test(model, device, test_loader)\n",
    "\n",
    "    # 손실과 정확도 기록\n",
    "    train_losses.append(train_loss)\n",
    "    test_losses.append(test_loss)\n",
    "    accuracies.append(accuracy)\n",
    "\n",
    "# 훈련 손실, 테스트 손실, 정확도 리스트 출력\n",
    "print(\"\\nTraining Losses:\", train_losses)\n",
    "print(\"Test Losses:\", test_losses)\n",
    "print(\"Accuracies:\", accuracies)\n",
    "\n",
    "# 시각화 코드\n",
    "# 결과 시각화\n",
    "plt.figure(figsize=(12, 5))\n",
    "\n",
    "# 손실 그래프\n",
    "plt.subplot(1, 2, 1)\n",
    "plt.plot(range(1, num_epochs + 1), train_losses, label='Train Loss', color='blue')\n",
    "plt.plot(range(1, num_epochs + 1), test_losses, label='Test Loss', color='red')\n",
    "plt.title('Loss over Epochs')\n",
    "plt.xlabel('Epochs')\n",
    "plt.ylabel('Loss')\n",
    "plt.legend()\n",
    "plt.grid()\n",
    "\n",
    "# 정확도 그래프\n",
    "plt.subplot(1, 2, 2)\n",
    "plt.plot(range(1, num_epochs + 1), accuracies, label='Accuracy', color='orange')\n",
    "plt.title('Accuracy over Epochs')\n",
    "plt.xlabel('Epochs')\n",
    "plt.ylabel('Accuracy (%)')\n",
    "plt.ylim(0, 100)  # Y축 범위 설정\n",
    "\n",
    "plt.legend()\n",
    "plt.grid()\n",
    "\n",
    "plt.tight_layout()\n",
    "plt.show()  # 그래프 출력"
   ]
  },
  {
   "cell_type": "code",
   "execution_count": 18,
   "metadata": {},
   "outputs": [],
   "source": [
    "# 1. 모델 구현\n",
    "import torch\n",
    "import torch.nn as nn\n",
    "import torch.optim as optim\n",
    "from torch.utils.data import DataLoader\n",
    "from torchvision import datasets, transforms\n",
    "import matplotlib.pyplot as plt\n",
    "\n",
    "# 데이터셋 로딩 및 전처리\n",
    "# 데이터셋 로딩: datasets.MNIST를 사용하여 MNIST 데이터를 다운로드하고, transform을 통해 데이터를 텐서로 변환합니다.\n",
    "transform = transforms.Compose([transforms.ToTensor(), transforms.Normalize((0.5,), (0.5,))])\n",
    "\n",
    "train_dataset = datasets.MNIST(root='./data', train=True, download=True, transform=transform)\n",
    "test_dataset = datasets.MNIST(root='./data', train=False, download=True, transform=transform)\n",
    "\n",
    "train_loader = DataLoader(train_dataset, batch_size=64, shuffle=True)\n",
    "test_loader = DataLoader(test_dataset, batch_size=64, shuffle=False)\n",
    "\n",
    "# LSTM 모델 정의\n",
    "class LSTM_Model(nn.Module):\n",
    "    def __init__(self, input_size=28, hidden_size=128, output_size=10):\n",
    "        super(LSTM_Model, self).__init__()\n",
    "        self.hidden_size = hidden_size\n",
    "\n",
    "        # LSTM 층 정의\n",
    "        self.lstm = nn.LSTM(input_size, hidden_size, batch_first=True)\n",
    "\n",
    "        # Fully Connected Layer\n",
    "        self.fc = nn.Linear(hidden_size, output_size)\n",
    "\n",
    "    def forward(self, x):\n",
    "        # LSTM의 입력은 (batch_size, seq_len, input_size)\n",
    "        lstm_out, (hn, cn) = self.lstm(x)  # lstm_out: (batch_size, seq_len, hidden_size)\n",
    "\n",
    "        # LSTM의 마지막 타임스텝 출력만 사용\n",
    "        out = self.fc(lstm_out[:, -1, :])  # 마지막 타임스텝의 출력\n",
    "        return out\n",
    "\n",
    "# 모델, 손실 함수, 최적화 함수 정의\n",
    "model = LSTM_Model(input_size=28, hidden_size=128, output_size=10)\n",
    "criterion = nn.CrossEntropyLoss()\n",
    "optimizer = optim.Adam(model.parameters(), lr=0.001)"
   ]
  },
  {
   "cell_type": "markdown",
   "metadata": {},
   "source": [
    "- 학습 과정에서 각 배치마다 순전파와 역전파를 진행합니다.\n",
    "- optimizer.zero_grad()는 이전 그래디언트를 초기화하고, optimizer.step()으로 파라미터를 업데이트합니다."
   ]
  },
  {
   "cell_type": "code",
   "execution_count": 19,
   "metadata": {},
   "outputs": [
    {
     "name": "stdout",
     "output_type": "stream",
     "text": [
      "Epoch [1/5], Loss: 0.4579, Accuracy: 85.31%\n",
      "Epoch [2/5], Loss: 0.1200, Accuracy: 96.41%\n",
      "Epoch [3/5], Loss: 0.0826, Accuracy: 97.52%\n",
      "Epoch [4/5], Loss: 0.0649, Accuracy: 98.03%\n",
      "Epoch [5/5], Loss: 0.0501, Accuracy: 98.52%\n",
      "Test Accuracy: 97.97%\n"
     ]
    }
   ],
   "source": [
    "# 2. 모델 학습\n",
    "num_epochs = 5\n",
    "for epoch in range(num_epochs):\n",
    "    model.train()\n",
    "    running_loss = 0.0\n",
    "    correct = 0\n",
    "    total = 0\n",
    "    for images, labels in train_loader:\n",
    "        images = images.squeeze(1)  # (batch_size, 28, 28) 형태로 변경\n",
    "        images = images.permute(0, 2, 1)  # (batch_size, 28, 28) -> (batch_size, seq_len=28, input_size=28)\n",
    "\n",
    "        optimizer.zero_grad()\n",
    "        outputs = model(images)\n",
    "        loss = criterion(outputs, labels)\n",
    "        loss.backward()\n",
    "        optimizer.step()\n",
    "\n",
    "        running_loss += loss.item()\n",
    "        _, predicted = torch.max(outputs, 1)\n",
    "        correct += (predicted == labels).sum().item()\n",
    "        total += labels.size(0)\n",
    "\n",
    "    # 에포크마다 손실과 정확도 출력\n",
    "    print(f\"Epoch [{epoch+1}/{num_epochs}], Loss: {running_loss/len(train_loader):.4f}, Accuracy: {100 * correct / total:.2f}%\")\n",
    "\n",
    "# 모델 평가\n",
    "model.eval()\n",
    "correct = 0\n",
    "total = 0\n",
    "with torch.no_grad():    # torch.no_grad()는 평가할 때 불필요한 그래디언트 계산을 방지합니다.\n",
    "    for images, labels in test_loader:\n",
    "        images = images.squeeze(1)\n",
    "        images = images.permute(0, 2, 1)\n",
    "\n",
    "        outputs = model(images)\n",
    "        _, predicted = torch.max(outputs, 1)\n",
    "\n",
    "        total += labels.size(0)\n",
    "        correct += (predicted == labels).sum().item()\n",
    "\n",
    "print(f\"Test Accuracy: {100 * correct / total:.2f}%\")"
   ]
  },
  {
   "cell_type": "markdown",
   "metadata": {},
   "source": [
    "### 모델 훈련 과정 시각화"
   ]
  },
  {
   "cell_type": "code",
   "execution_count": 20,
   "metadata": {},
   "outputs": [],
   "source": [
    "import torch\n",
    "import torch.nn as nn\n",
    "import torch.optim as optim\n",
    "from torch.utils.data import DataLoader\n",
    "from torchvision import datasets, transforms\n",
    "import matplotlib.pyplot as plt\n",
    "\n",
    "# 데이터셋 로딩 및 전처리\n",
    "transform = transforms.Compose([transforms.ToTensor(), transforms.Normalize((0.5,), (0.5,))])\n",
    "\n",
    "train_dataset = datasets.MNIST(root='./data', train=True, download=True, transform=transform)\n",
    "test_dataset = datasets.MNIST(root='./data', train=False, download=True, transform=transform)\n",
    "\n",
    "train_loader = DataLoader(train_dataset, batch_size=64, shuffle=True)\n",
    "test_loader = DataLoader(test_dataset, batch_size=64, shuffle=False)\n",
    "\n",
    "# LSTM 모델 정의\n",
    "class LSTM_Model(nn.Module):\n",
    "    def __init__(self, input_size=28, hidden_size=128, output_size=10):\n",
    "        super(LSTM_Model, self).__init__()\n",
    "        self.hidden_size = hidden_size\n",
    "\n",
    "        # LSTM 층 정의\n",
    "        self.lstm = nn.LSTM(input_size, hidden_size, batch_first=True)\n",
    "\n",
    "        # Fully Connected Layer\n",
    "        self.fc = nn.Linear(hidden_size, output_size)\n",
    "\n",
    "    def forward(self, x):\n",
    "        # LSTM의 입력은 (batch_size, seq_len, input_size)\n",
    "        lstm_out, (hn, cn) = self.lstm(x)  # lstm_out: (batch_size, seq_len, hidden_size)\n",
    "\n",
    "        # LSTM의 마지막 타임스텝 출력만 사용\n",
    "        out = self.fc(lstm_out[:, -1, :])  # 마지막 타임스텝의 출력\n",
    "        return out\n",
    "\n",
    "# 모델, 손실 함수, 최적화 함수 정의\n",
    "model = LSTM_Model(input_size=28, hidden_size=128, output_size=10)\n",
    "criterion = nn.CrossEntropyLoss()\n",
    "optimizer = optim.Adam(model.parameters(), lr=0.001)\n"
   ]
  },
  {
   "cell_type": "code",
   "execution_count": 21,
   "metadata": {},
   "outputs": [
    {
     "name": "stdout",
     "output_type": "stream",
     "text": [
      "Epoch [1/5], Loss: 0.4326, Accuracy: 86.13%\n",
      "Test Accuracy: 95.20%\n",
      "Epoch [2/5], Loss: 0.1190, Accuracy: 96.41%\n",
      "Test Accuracy: 97.26%\n",
      "Epoch [3/5], Loss: 0.0816, Accuracy: 97.54%\n",
      "Test Accuracy: 97.69%\n",
      "Epoch [4/5], Loss: 0.0620, Accuracy: 98.12%\n",
      "Test Accuracy: 98.00%\n",
      "Epoch [5/5], Loss: 0.0521, Accuracy: 98.42%\n",
      "Test Accuracy: 97.91%\n"
     ]
    }
   ],
   "source": [
    "# 학습 루프\n",
    "num_epochs = 5        # 훈련할 에폭(epoch) 수\n",
    "train_losses = []     # 각 에폭마다의 훈련 손실을 저장할 리스트\n",
    "train_accuracies = [] # 각 에폭마다의 훈련 정확도를 저장할 리스트\n",
    "test_accuracies = []  # 각 에폭마다의 테스트 정확도를 저장할 리스트\n",
    "\n",
    "# 에폭 수만큼 반복\n",
    "for epoch in range(num_epochs):\n",
    "    model.train()    # 모델을 훈련 모드로 설정 (드롭아웃, 배치 정규화 등 활성화)\n",
    "    running_loss = 0.0     # 현재 에폭에서의 손실을 누적할 변수\n",
    "    correct = 0            # 정확한 예측의 수를 세기 위한 변수\n",
    "    total = 0              # 전체 예측의 수를 세기 위한 변수\n",
    "\n",
    "    for images, labels in train_loader:\n",
    "        images = images.squeeze(1)        # (batch_size, 28, 28) 형태로 변경\n",
    "        images = images.permute(0, 2, 1)\n",
    "        # (batch_size, 28, 28) -> (batch_size, seq_len=28, input_size=28)\n",
    "\n",
    "        optimizer.zero_grad()\n",
    "        outputs = model(images)\n",
    "        loss = criterion(outputs, labels)\n",
    "        loss.backward()\n",
    "        optimizer.step()\n",
    "\n",
    "        running_loss += loss.item()\n",
    "        _, predicted = torch.max(outputs, 1)\n",
    "        correct += (predicted == labels).sum().item()\n",
    "        total += labels.size(0)\n",
    "\n",
    "    # Epoch마다 loss와 accuracy 출력\n",
    "    train_losses.append(running_loss / len(train_loader))\n",
    "    train_accuracies.append(100 * correct / total)\n",
    "    print(f\"Epoch [{epoch+1}/{num_epochs}], Loss: {running_loss/len(train_loader):.4f}, Accuracy: {100 * correct / total:.2f}%\")\n",
    "\n",
    "    # 모델 평가 (테스트 정확도 계산)\n",
    "    model.eval()\n",
    "    correct = 0\n",
    "    total = 0\n",
    "    with torch.no_grad():\n",
    "        for images, labels in test_loader:\n",
    "            images = images.squeeze(1)\n",
    "            images = images.permute(0, 2, 1)\n",
    "\n",
    "            outputs = model(images)\n",
    "            _, predicted = torch.max(outputs, 1)\n",
    "\n",
    "            total += labels.size(0)\n",
    "            correct += (predicted == labels).sum().item()\n",
    "\n",
    "    # 전체 테스트 데이터에 대해 모델의 정확도를 계산 (백분율로 표현)\n",
    "    # 계산된 테스트 정확도를 test_accuracies 리스트에 추가\n",
    "    test_accuracy = 100 * correct / total\n",
    "    test_accuracies.append(test_accuracy)\n",
    "    print(f\"Test Accuracy: {test_accuracy:.2f}%\")"
   ]
  },
  {
   "cell_type": "code",
   "execution_count": 22,
   "metadata": {},
   "outputs": [
    {
     "data": {
      "image/png": "[encoded data removed]",
      "text/plain": [
       "<Figure size 1200x500 with 2 Axes>"
      ]
     },
     "metadata": {},
     "output_type": "display_data"
    }
   ],
   "source": [
    "# 학습 과정 시각화\n",
    "plt.figure(figsize=(12, 5))\n",
    "\n",
    "# Loss 그래프\n",
    "plt.subplot(1, 2, 1)\n",
    "plt.plot(range(1, num_epochs + 1), train_losses, label=\"Train Loss\")\n",
    "plt.xlabel(\"Epoch\")\n",
    "plt.ylabel(\"Loss\")\n",
    "plt.title(\"Training Loss over Epochs\")\n",
    "\n",
    "# Accuracy 그래프\n",
    "plt.subplot(1, 2, 2)\n",
    "plt.plot(range(1, num_epochs + 1), train_accuracies, label=\"Train Accuracy\")\n",
    "plt.plot(range(1, num_epochs + 1), test_accuracies, label=\"Test Accuracy\")\n",
    "plt.xlabel(\"Epoch\")\n",
    "plt.ylabel(\"Accuracy\")\n",
    "plt.title(\"Accuracy over Epochs\")\n",
    "plt.legend()\n",
    "\n",
    "plt.show()"
   ]
  },
  {
   "cell_type": "markdown",
   "metadata": {},
   "source": [
    "- 그래프를 보면 Loss는 점점 줄어들고, Test 정확도는 Train 정확도 보다 낮게 표시되었다."
   ]
  },
  {
   "cell_type": "markdown",
   "metadata": {},
   "source": [
    "-----"
   ]
  },
  {
   "cell_type": "markdown",
   "metadata": {},
   "source": [
    "# `Simple CNN Classifying Fashion MNIST`\n",
    "\n",
    "* Simple Convolutional Neural Network (CNN) with 3 convolutions and 4 fully connected layers working to classify clothing from Fashion MNIST;\n",
    "* Dataset with 70,000 instances and 784 pixel columns. 60,000 for training, 10,000 for testing;\n",
    "* Every image is in grayscale, 28x28 and belong to one of the 10 clothing classes:\n",
    "  * Class 0 => T-shirt\n",
    "  * Class 1 => Trouser\n",
    "  * Class 2 => Pullover\n",
    "  * Class 3 => Dress\n",
    "  * Class 4 => Coat\n",
    "  * Class 5 => Sandal\n",
    "  * Class 6 => Shirt\n",
    "  * Class 7 => Sneaker\n",
    "  * Class 8 => Bag\n",
    "  * Class 9 => Ankle boot\n",
    "* CNN is trained from scratch. No transfer learning is performed;\n",
    "* Dataset version on Kaggle: [Fashion MNIST](https://www.kaggle.com/datasets/zalando-research/fashionmnist)."
   ]
  },
  {
   "cell_type": "markdown",
   "metadata": {},
   "source": [
    "# 간단한 CNN으로 패션 MNIST 분류하기\n",
    "\n",
    "-   3개의 합성곱 층과 4개의 완전 연결 층으로 구성된 간단한 합성곱 신경망(CNN)으로 패션 MNIST에서 의류를 분류합니다.\n",
    "-   데이터셋은 70,000개의 인스턴스와 784개의 픽셀 열로 구성되어 있습니다. 이 중 60,000개는 훈련용, 10,000개는 테스트용입니다.\n",
    "-   모든 이미지는 그레이스케일이며 크기는 28x28이며 10개의 의류 클래스 중 하나에 속합니다:\n",
    "    \n",
    "    -   클래스 0 => 티셔츠\n",
    "    -   클래스 1 => 바지\n",
    "    -   클래스 2 => 풀오버\n",
    "    -   클래스 3 => 드레스\n",
    "    -   클래스 4 => 코트\n",
    "    -   클래스 5 => 샌달\n",
    "    -   클래스 6 => 셔츠\n",
    "    -   클래스 7 => 스니커즈\n",
    "    -   클래스 8 => 가방\n",
    "    -   클래스 9 => 앵클 부츠\n",
    "    \n",
    "-   CNN은 처음부터 훈련됩니다. 전이 학습은 수행되지 않습니다.\n",
    "-   데이터셋 버전은 Kaggle에서 제공하는 [Fashion MNIST](https://www.kaggle.com/datasets/zalando-research/fashionmnist)입니다."
   ]
  },
  {
   "cell_type": "markdown",
   "metadata": {},
   "source": [
    "## Data Exploration\n",
    "\n",
    "Let us load the libraries we are going to use in our notebook and also the dataset to display it and get a grasp of the data.\n",
    "\n",
    "The data is in the usual grayscale image numeric representation: one column per pixel and each value representing the gray color intensity. Color intensity ranges from 0 (completely black) to 255 (completely white)."
   ]
  },
  {
   "cell_type": "markdown",
   "metadata": {},
   "source": [
    "데이터 탐색\n",
    "\n",
    "우리가 노트북에서 사용할 라이브러리와 데이터를 로드하여 데이터를 표시하고 이해해 보겠습니다.\n",
    "\n",
    "데이터는 일반적인 그레이스케일 이미지 수치 표현 방식으로, 각 픽셀당 하나의 열이 있으며 각 값은 회색의 색상 강도를 나타냅니다. 색상 강도 범위는 0(완전히 검은색)에서 255(완전히 흰색)입니다."
   ]
  },
  {
   "cell_type": "code",
   "execution_count": 23,
   "metadata": {},
   "outputs": [
    {
     "name": "stderr",
     "output_type": "stream",
     "text": [
      "2025-03-17 22:21:31.854590: I tensorflow/core/platform/cpu_feature_guard.cc:210] This TensorFlow binary is optimized to use available CPU instructions in performance-critical operations.\n",
      "To enable the following instructions: AVX2 FMA, in other operations, rebuild TensorFlow with the appropriate compiler flags.\n"
     ]
    }
   ],
   "source": [
    "import numpy as np\n",
    "import pandas as pd\n",
    "import seaborn as sns\n",
    "from matplotlib import pyplot as plt\n",
    "from tensorflow.keras import models, layers\n",
    "from tensorflow.keras import callbacks\n",
    "from sklearn.metrics import confusion_matrix, classification_report"
   ]
  },
  {
   "cell_type": "code",
   "execution_count": null,
   "metadata": {},
   "outputs": [
    {
     "ename": "FileNotFoundError",
     "evalue": "[Errno 2] No such file or directory: 'data/raw/fashion-mnist-train.zip'",
     "output_type": "error",
     "traceback": [
      "\u001b[0;31m---------------------------------------------------------------------------\u001b[0m",
      "\u001b[0;31mFileNotFoundError\u001b[0m                         Traceback (most recent call last)",
      "Cell \u001b[0;32mIn[25], line 5\u001b[0m\n\u001b[1;32m      2\u001b[0m \u001b[38;5;28;01mimport\u001b[39;00m \u001b[38;5;21;01mos\u001b[39;00m\n\u001b[1;32m      4\u001b[0m \u001b[38;5;66;03m# Extract training set from FashionMNIST dataset.\u001b[39;00m\n\u001b[0;32m----> 5\u001b[0m zip_object \u001b[38;5;241m=\u001b[39m zipfile\u001b[38;5;241m.\u001b[39mZipFile(\u001b[38;5;124m'\u001b[39m\u001b[38;5;124mdata/raw/fashion-mnist-train.zip\u001b[39m\u001b[38;5;124m'\u001b[39m)\n\u001b[1;32m      6\u001b[0m zip_object\u001b[38;5;241m.\u001b[39mextractall(\u001b[38;5;124m'\u001b[39m\u001b[38;5;124mdata/raw/\u001b[39m\u001b[38;5;124m'\u001b[39m)\n\u001b[1;32m      7\u001b[0m zip_object\u001b[38;5;241m.\u001b[39mclose()\n",
      "File \u001b[0;32m/opt/anaconda3/lib/python3.12/zipfile/__init__.py:1323\u001b[0m, in \u001b[0;36mZipFile.__init__\u001b[0;34m(self, file, mode, compression, allowZip64, compresslevel, strict_timestamps, metadata_encoding)\u001b[0m\n\u001b[1;32m   1321\u001b[0m \u001b[38;5;28;01mwhile\u001b[39;00m \u001b[38;5;28;01mTrue\u001b[39;00m:\n\u001b[1;32m   1322\u001b[0m     \u001b[38;5;28;01mtry\u001b[39;00m:\n\u001b[0;32m-> 1323\u001b[0m         \u001b[38;5;28mself\u001b[39m\u001b[38;5;241m.\u001b[39mfp \u001b[38;5;241m=\u001b[39m io\u001b[38;5;241m.\u001b[39mopen(file, filemode)\n\u001b[1;32m   1324\u001b[0m     \u001b[38;5;28;01mexcept\u001b[39;00m \u001b[38;5;167;01mOSError\u001b[39;00m:\n\u001b[1;32m   1325\u001b[0m         \u001b[38;5;28;01mif\u001b[39;00m filemode \u001b[38;5;129;01min\u001b[39;00m modeDict:\n",
      "\u001b[0;31mFileNotFoundError\u001b[0m: [Errno 2] No such file or directory: 'data/raw/fashion-mnist-train.zip'"
     ]
    }
   ],
   "source": [
    "import zipfile\n",
    "import os\n",
    "\n",
    "# Extract training set from FashionMNIST dataset.\n",
    "zip_object = zipfile.ZipFile('data/raw/fashion-mnist-train.zip') # zip 파일 열기\n",
    "zip_object.extractall('data/raw/') # zip 파일 압축 해제 (압축 해제할 경로 지정)\n",
    "zip_object.close()\n",
    "\n",
    "# Extract testing set from FashionMNIST dataset.\n",
    "zip_object = zipfile.ZipFile('data/raw/fashion-mnist-test.zip')\n",
    "zip_object.extractall('data/raw/')\n",
    "zip_object.close()\n"
   ]
  },
  {
   "cell_type": "code",
   "execution_count": null,
   "metadata": {},
   "outputs": [],
   "source": [
    "fashion_train_df = pd.read_csv('data/raw/fashion-mnist-train.csv')\n",
    "fashion_test_df = pd.read_csv('data/raw/fashion-mnist-test.csv')\n",
    "\n",
    "display(fashion_train_df)\n",
    "display(fashion_test_df)"
   ]
  },
  {
   "cell_type": "markdown",
   "metadata": {},
   "source": [
    "Pandas' `info` and `describe` will not tell us much on this dataset.\n",
    "\n",
    "`info` basically only tells dataset dimensions and memory usage, which is important to evaluate on image datasets as they can be very large. Fashion MNIST only uses 359 MB; any decent machine can work on it fairly easy.\n",
    "\n",
    "Meanwhile, `describe` presents descriptive statistics on the data. The only useful information here are the mean (or min and max) values for each pixel column, telling us that the object in the image is centered by default.  We can say that because border pixels have mean values close to 0 and center pixels have mean values far from 0."
   ]
  },
  {
   "cell_type": "markdown",
   "metadata": {},
   "source": [
    "Pandas의 info와 describe는 이 데이터셋에 대해 많은 정보를 제공하지 않을 것입니다.\n",
    "\n",
    "info는 기본적으로 데이터셋의 차원과 메모리 사용량만 알려주며, 이는 이미지 데이터셋에서 중요한 평가 요소입니다. Fashion MNIST의 경우 크기는 359 MB로, 어느 정도 성능이 좋은 머신이라면 비교적 쉽게 작업할 수 있습니다.\n",
    "\n",
    "한편, describe는 데이터에 대한 기술 통계를 제공합니다. 여기서 유용한 정보는 각 픽셀 열에 대한 평균(또는 최소 및 최대) 값인데, 이는 이미지의 객체가 기본적으로 중앙에 위치한다는 것을 나타냅니다. 이는 가장자리 픽셀의 평균 값이 0에 가까운 반면, 중앙 픽셀의 평균 값은 0에서 멀리 떨어져 있다는 사실로 확인할 수 있습니다."
   ]
  },
  {
   "cell_type": "code",
   "execution_count": null,
   "metadata": {},
   "outputs": [],
   "source": [
    "fashion_train_df.info()"
   ]
  },
  {
   "cell_type": "code",
   "execution_count": null,
   "metadata": {},
   "outputs": [],
   "source": [
    "fashion_train_df.describe()"
   ]
  },
  {
   "cell_type": "markdown",
   "metadata": {},
   "source": [
    "Nonetheless, numeric information will not help much on visual datasets, so we build a grid with random images from the dataset. Image labels are printed above the subfigures.\n",
    "\n",
    "We normalize our images to have their pixel values in the [0, 1] range. In this manner, any classifier can update its gradient faster and, therefore, converge faster."
   ]
  },
  {
   "cell_type": "markdown",
   "metadata": {},
   "source": [
    "그럼에도 불구하고 숫자 정보는 시각적 데이터셋에서는 큰 도움이 되지 않으므로, 데이터셋에서 무작위 이미지를 사용하여 그리드를 만듭니다. 이미지의 레이블은 서브피겨 위에 표시됩니다.\n",
    "\n",
    "이미지를 [0, 1] 범위로 정규화하여 픽셀 값이 이 범위 안에 있도록 합니다. 이러한 방식으로 모든 분류기는 기울기를 더 빨리 업데이트할 수 있으며, 따라서 더 빠르게 수렴할 수 있습니다."
   ]
  },
  {
   "cell_type": "code",
   "execution_count": null,
   "metadata": {},
   "outputs": [],
   "source": [
    "# Get values from Pandas dataframe to plot with matplotlib.\n",
    "fashion_train = fashion_train_df.values\n",
    "fashion_test = fashion_test_df.values\n",
    "\n",
    "# Dimensions of the image grid.\n",
    "grid_width = 15\n",
    "grid_height = 15\n",
    "\n",
    "fig, axes = plt.subplots(grid_height, grid_width, figsize=(25, 25))\n",
    "axes = axes.ravel()\n",
    "\n",
    "for i in np.arange(0, grid_height * grid_width):\n",
    "    # Draft random index to get random image.\n",
    "    index = np.random.randint(0, fashion_train.shape[0])\n",
    "    axes[i].imshow(fashion_train[index, 1:].reshape(28, 28), cmap='gray')\n",
    "    # Show image class label above the drafted image.\n",
    "    axes[i].set_title(\"Class: \" + str(fashion_train[index, 0]), fontsize=8)\n",
    "    axes[i].axis('off')\n",
    "plt.subplots_adjust(hspace=0.4)"
   ]
  },
  {
   "cell_type": "code",
   "execution_count": null,
   "metadata": {},
   "outputs": [],
   "source": [
    "# Normalize each pixel intensity to be in the [0, 1] range.\n",
    "X_train = fashion_train[:, 1:] / 255\n",
    "\n",
    "# Reshape the 784 pixel columns to 28x28, in a single channel.\n",
    "X_train = X_train.reshape(X_train.shape[0], 28, 28, 1)\n",
    "y_train = fashion_train[:, 0]\n",
    "\n",
    "X_test = fashion_test[:, 1:] / 255\n",
    "X_test = X_test.reshape(X_test.shape[0], 28, 28, 1)\n",
    "y_test = fashion_test[:, 0]\n",
    "\n",
    "print(X_train.shape)\n",
    "print(X_test.shape)"
   ]
  },
  {
   "cell_type": "markdown",
   "metadata": {},
   "source": [
    "## Model Building and Training\n",
    "\n",
    "Our model is a simple one with only a single stream of layers. We can use the `Sequential` framework from the TensorFlow API to build such a model.\n",
    "\n",
    "We use 3 convolutional layers and 4 fully connected ones. The first convolutional has 32 feature maps and the remaining have 64. Every convolutional layer has a 3x3 kernel.\n",
    "\n",
    "We define each fully connected layer to have its number of neurons approximately equal to half the number of input features. Therefore, since the flatten layer returns 576 features, the first fully connected uses 250, the second uses 125 and the penultimate uses 60. The last fully connected layer uses 10 neurons because we have 10 classes.\n",
    "\n",
    "We add max pooling layers between each convolutional, except for the last one. Max pooling is used instead of average pooling because the edges of the objects, which max pooling identifies better, have more useful information than the contrast of the objects.\n",
    "\n",
    "All layers use ReLU as activation function, except for the last layer that uses softmax."
   ]
  },
  {
   "cell_type": "markdown",
   "metadata": {},
   "source": [
    "모델 구축 및 교육\n",
    "\n",
    "우리의 모델은 단일 스트림 레이어로 구성된 간단한 모델입니다. TensorFlow API의 Sequential 프레임워크를 사용하여 이러한 모델을 구축할 수 있습니다.\n",
    "\n",
    "3개의 합성곱(convolutional) 레이어와 4개의 완전 연결(fully connected) 레이어를 사용합니다. 첫 번째 합성곱 레이어는 32개의 특징 맵(feature maps)을 가지고 있으며, 나머지 레이어는 64개를 사용합니다. 각 합성곱 레이어는 3x3 커널을 갖습니다.\n",
    "\n",
    "각 완전 연결 레이어는 입력 특징의 수의 약 절반에 해당하는 뉴런 수를 갖도록 정의합니다. 따라서 플 Flatten 레이어가 576개의 특징을 반환하므로, 첫 번째 완전 연결 레이어는 250개, 두 번째 레이어는 125개, 그 이전 레이어는 60개 뉴런을 사용합니다. 마지막 완전 연결 레이어는 10개의 클래스를 가지고 있기 때문에 10개의 뉴런을 사용합니다.\n",
    "\n",
    "모든 합성곱 레이어 사이에 최대 풀링(max pooling) 레이어를 추가하며, 마지막 레이어는 제외합니다. 최대 풀링은 평균 풀링보다 객체의 가장자리를 더 잘 식별하므로, 객체의 컨트라스트보다 더 유용한 정보를 제공합니다.\n",
    "\n",
    "모든 레이어는 ReLU를 활성화 함수로 사용하며, 마지막 레이어는 softmax를 사용합니다."
   ]
  },
  {
   "cell_type": "code",
   "execution_count": null,
   "metadata": {},
   "outputs": [],
   "source": [
    "cnn_model = models.Sequential()\n",
    "\n",
    "cnn_model.add(layers.Conv2D(32, (3, 3), activation='relu', input_shape=(28, 28, 1)))\n",
    "cnn_model.add(layers.MaxPool2D(pool_size=(2, 2)))\n",
    "\n",
    "cnn_model.add(layers.Conv2D(64, (3, 3), activation='relu'))\n",
    "cnn_model.add(layers.MaxPool2D(pool_size=(2, 2)))\n",
    "\n",
    "cnn_model.add(layers.Conv2D(64, (3, 3), activation='relu'))\n",
    "\n",
    "cnn_model.add(layers.Flatten())\n",
    "\n",
    "# Each fully connected has half its input as its number of neurons.\n",
    "cnn_model.add(layers.Dense(250, activation='relu'))\n",
    "cnn_model.add(layers.Dense(125, activation='relu'))\n",
    "cnn_model.add(layers.Dense(60, activation='relu'))\n",
    "\n",
    "# 10 neurons in the last layer as we have 10 classes.\n",
    "cnn_model.add(layers.Dense(10, activation='softmax'))\n",
    "\n",
    "cnn_model.summary()"
   ]
  },
  {
   "cell_type": "markdown",
   "metadata": {},
   "source": [
    "For training, we empirically defined 20 batches with 3000 images each. We also set an early stopping callback that waits for 10 iterations without improvement before being triggered.\n",
    "\n",
    "500 epochs are more than enough to let our early stopping callback perform its work.\n",
    "\n",
    "Our validation set has 15% the size of the training set. Close to the testing set that has 10,000 images (nearly 15% of the 60,000 training images)."
   ]
  },
  {
   "cell_type": "markdown",
   "metadata": {},
   "source": [
    "훈련을 위해 20개의 배치(batch)를 정의하였고, 각 배치에는 3000개의 이미지가 포함되어 있습니다. 또한 개선이 없는 10회의 반복을 기다린 후에 트리거되는 조기 종료(early stopping) 콜백을 설정했습니다.\n",
    "\n",
    "500 에폭(epoch)은 우리의 조기 종료 콜백이 작동하기에 충분한 양입니다.\n",
    "\n",
    "우리의 검증 세트는 훈련 세트 크기의 15%를 차지합니다. 테스트 세트는 10,000개의 이미지를 포함하고 있으며(60,000개의 훈련 이미지의 거의 15%에 해당), 검증 세트와 비슷한 규모입니다."
   ]
  },
  {
   "cell_type": "code",
   "execution_count": null,
   "metadata": {},
   "outputs": [],
   "source": [
    "early_stopping_callback = callbacks.EarlyStopping(patience=10)\n",
    "batch_size = X_train.shape[0] // 20\n",
    "\n",
    "# 모델을 컴파일할 때, metrics를 리스트로 변경\n",
    "cnn_model.compile(optimizer='Adam',\n",
    "                loss='sparse_categorical_crossentropy',\n",
    "                metrics=['accuracy'])  # metrics을 리스트로 수정\n",
    "\n",
    "epochs_info = cnn_model.fit(X_train,\n",
    "                            y_train,\n",
    "                            batch_size=batch_size,\n",
    "                            epochs=500,\n",
    "                            callbacks=[early_stopping_callback],\n",
    "                            validation_split=0.15)"
   ]
  },
  {
   "cell_type": "markdown",
   "metadata": {},
   "source": [
    "We can see in the loss curves below that our model overfits a bit before the validation loss stabilizes. Just so our model stays simple, and as the overfitting was not severe, we have opted for not adding dropout layers or any other countermeasures for overfitting.\n",
    "\n",
    "Other than that, we have also chosen to let the validation loss converge instead of stopping the training once the training loss had left the validation loss behind."
   ]
  },
  {
   "cell_type": "markdown",
   "metadata": {},
   "source": [
    "아래 손실 곡선에서 볼 수 있듯이, 우리의 모델은 검증 손실이 안정화되기 전에 약간의 오버피팅(overfitting)을 보입니다. 모델을 간단하게 유지하기 위해 오버피팅이 심각하지 않았으므로 드롭아웃(dropout) 레이어나 기타 오버피팅 방지 조치를 추가하지 않기로 결정했습니다.\n",
    "\n",
    "그 외에도, 훈련 손실이 검증 손실을 초과했을 때 훈련을 중단하는 대신, 검증 손실이 수렴할 때까지 훈련을 계속 진행하기로 선택했습니다."
   ]
  },
  {
   "cell_type": "code",
   "execution_count": null,
   "metadata": {},
   "outputs": [],
   "source": [
    "plt.plot(epochs_info.history['loss'])\n",
    "plt.plot(epochs_info.history['val_loss'])\n",
    "plt.title(\"CNN Model Loss Progression During Training\")\n",
    "plt.xlabel(\"Epoch\")\n",
    "plt.ylabel(\"Loss\")\n",
    "plt.legend([\"Training loss\", \"Validation loss\"])\n",
    "plt.show()"
   ]
  },
  {
   "cell_type": "code",
   "execution_count": null,
   "metadata": {},
   "outputs": [],
   "source": [
    "plt.plot(epochs_info.history['accuracy'])\n",
    "plt.plot(epochs_info.history['val_accuracy'])\n",
    "plt.title(\"CNN Model Accuracy Progression During Training\")\n",
    "plt.xlabel(\"Epoch\")\n",
    "plt.ylabel(\"Accuracy\")\n",
    "plt.legend([\"Training accuracy\", \"Validation accuracy\"])\n",
    "plt.show()"
   ]
  },
  {
   "cell_type": "markdown",
   "metadata": {},
   "source": [
    "## Model Evaluation\n",
    "\n",
    "Using TensorFlow's `evaluate` function we get an accuracy of nearly 91% for our model. This is a neat performance, considering that our model is rather simple, being shallow and ignoring a bit of overfitting.\n",
    "\n",
    "The confusion matrix for our model's predictions also has the majority of values in the main diagonal, indicating a good performance. Note that the mistakes are concentrated in some specific classes, like class 0 (t-shirt) that gets misclassified as class 6 (shirt) a lot of times. This is understandable, since both objects are quite similar and the images do not have much details to help differentiate them."
   ]
  },
  {
   "cell_type": "markdown",
   "metadata": {},
   "source": [
    "모델 평가\n",
    "\n",
    "TensorFlow의 evaluate 함수를 사용한 결과, 우리 모델의 정확도는 거의 91%에 달합니다. 이는 모델이 상대적으로 간단하고 얕으며 약간의 오버피팅을 무시하고 있다는 점을 고려할 때 괜찮은 성능입니다.\n",
    "\n",
    "모델의 예측에 대한 혼동 행렬(confusion matrix)에서도 대부분의 값이 주 대각선(main diagonal)에 집중되어 있어 좋은 성능을 나타냅니다. 잘못 분류된 경우는 특정 클래스에 집중되어 있으며, 예를 들어 클래스 0(티셔츠)이 클래스 6(셔츠)로 많이 잘못 분류됩니다. 이는 두 객체가 상당히 유사하고 이미지에 그들을 구별하는 데 도움이 되는 세부 정보가 많지 않기 때문에 이해할 수 있습니다."
   ]
  },
  {
   "cell_type": "code",
   "execution_count": null,
   "metadata": {},
   "outputs": [],
   "source": [
    "cnn_model.evaluate(X_test, y_test)"
   ]
  },
  {
   "cell_type": "code",
   "execution_count": null,
   "metadata": {},
   "outputs": [],
   "source": [
    "y_pred = cnn_model.predict(X_test)\n",
    "\n",
    "# Get the class with highest predicted probability and assume it is the\n",
    "# model prediction.\n",
    "y_pred_classes = np.argmax(y_pred, axis=1)\n",
    "\n",
    "cm = confusion_matrix(y_test, y_pred_classes)\n",
    "\n",
    "plt.figure(figsize=(10, 7))\n",
    "sns.heatmap(cm, annot=True, fmt='d')\n",
    "plt.title(\"CNN Model Prediction Confusion Matrix\")\n",
    "plt.show()"
   ]
  },
  {
   "cell_type": "markdown",
   "metadata": {},
   "source": [
    "Sklearn's `classification_report` reassures our previous conclusions. Overall accuracy is at 91%. Class 6 has a low F1-score, for being a false positive for class 0 too much.\n",
    "\n",
    "For last, we have another image grid with random images from the dataset. This time, we print the actual label and the predicted label for each image. We can see the mistakes described by the confusion matrix in line 14, column 5 and line 14, column 8.\n",
    "\n",
    "We can also see how much class 0 (t-shirt) and class 6 (shirt) look alike. Another class with low recall is class 2 (pullover) and it is also very similar to classes 0 and 6. Low recall means many false negatives, i.e., class 2 is commonly said to be class 0 or 6.\n",
    "\n",
    "Our CNN model was not able to capture features well enough to distinguish the similar classes."
   ]
  },
  {
   "cell_type": "markdown",
   "metadata": {},
   "source": [
    "Sklearn의 classification_report는 우리가 이전에 도출한 결론을 확증해줍니다. 전체 정확도는 91%이며, 클래스 6은 클래스 0에 대한 잘못된 긍정(false positive) 때문에 낮은 F1 점수를 기록하고 있습니다.\n",
    "\n",
    "마지막으로, 데이터셋의 무작위 이미지로 구성된 또 다른 이미지 그리드를 보여드립니다. 이번에는 각 이미지에 대해 실제 레이블과 예측된 레이블을 출력합니다. 혼동 행렬에서 설명한 오류는 14행 5열과 14행 8열에서 확인할 수 있습니다.\n",
    "\n",
    "클래스 0(티셔츠)와 클래스 6(셔츠)은 얼마나 유사하게 보이는지도 확인할 수 있습니다. 낮은 리콜(recall)을 보이는 또 다른 클래스는 클래스 2(풀오버)이며, 이 클래스도 클래스 0과 6과 매우 유사합니다. 낮은 리콜은 많은 거짓 부정(false negatives)을 의미하며, 즉 클래스 2가 일반적으로 클래스 0 또는 6으로 잘못 분류된다는 것을 나타냅니다.\n",
    "\n",
    "우리의 CNN 모델은 유사한 클래스들을 구별하기에 충분히 특징을 잘 포착하지 못했습니다."
   ]
  },
  {
   "cell_type": "code",
   "execution_count": null,
   "metadata": {},
   "outputs": [],
   "source": [
    "class_names = [\"Class 0 => T-shirt\",\n",
    "            \"Class 1 => Trouser\",\n",
    "            \"Class 2 => Pullover\",\n",
    "            \"Class 3 => Dress\",\n",
    "            \"Class 4 => Coat\",\n",
    "            \"Class 5 => Sandal\",\n",
    "            \"Class 6 => Shirt\",\n",
    "            \"Class 7 => Sneaker\",\n",
    "            \"Class 8 => Bag\",\n",
    "            \"Class 9 => Ankle boot\"]\n",
    "print(classification_report(y_test, y_pred_classes, target_names=class_names))"
   ]
  },
  {
   "cell_type": "code",
   "execution_count": null,
   "metadata": {},
   "outputs": [],
   "source": [
    "# Grid dimensions.\n",
    "grid_height = 15\n",
    "grid_width = 15\n",
    "\n",
    "fig, axes = plt.subplots(grid_height, grid_width, figsize=(25, 25))\n",
    "axes = axes.ravel()\n",
    "\n",
    "for i in range(grid_height * grid_width):\n",
    "    # Draft random index to plot random image.\n",
    "    drafted_image = np.random.randint(0, X_test.shape[0])\n",
    "    axes[i].imshow(X_test[drafted_image].reshape(28, 28), cmap='gray')\n",
    "    # Print actual and predicted labels for image.\n",
    "    axes[i].set_title(\"Actual class: {:0.1f}\\nPredicted class: {:0.1f}\".format(\n",
    "        y_test[drafted_image], y_pred_classes[drafted_image]), fontsize=8)\n",
    "    axes[i].axis('off')\n",
    "plt.subplots_adjust(hspace=0.8)"
   ]
  },
  {
   "cell_type": "code",
   "execution_count": null,
   "metadata": {},
   "outputs": [],
   "source": [
    "import zipfile\n",
    "import os\n",
    "import torch\n",
    "import torch.nn as nn\n",
    "import torch.optim as optim\n",
    "from torchvision import datasets, transforms\n",
    "from torch.utils.data import DataLoader\n",
    "import matplotlib.pyplot as plt\n",
    "from keras import callbacks  # Keras에서 필요한 콜백\n",
    "\n",
    "# Fashion MNIST 데이터셋 압축 해제\n",
    "# Extract training set from FashionMNIST dataset.\n",
    "zip_object = zipfile.ZipFile('data/raw/fashion-mnist-train.zip')\n",
    "zip_object.extractall('data/raw/')\n",
    "zip_object.close()\n",
    "\n",
    "# Extract testing set from FashionMNIST dataset.\n",
    "zip_object = zipfile.ZipFile('data/raw/fashion-mnist-test.zip')\n",
    "zip_object.extractall('data/raw/')\n",
    "zip_object.close()\n",
    "\n",
    "# 장치 설정\n",
    "device = torch.device(\"cuda\" if torch.cuda.is_available() else \"cpu\")\n",
    "\n",
    "# 데이터 변환 설정\n",
    "transform = transforms.Compose([\n",
    "    transforms.ToTensor(),\n",
    "    transforms.Normalize((0.5,), (0.5,))\n",
    "])\n",
    "\n",
    "# Fashion MNIST 데이터셋 로드\n",
    "train_dataset = datasets.FashionMNIST(root='data/', train=True, download=True, transform=transform)\n",
    "test_dataset = datasets.FashionMNIST(root='data/', train=False, download=True, transform=transform)\n",
    "\n",
    "train_loader = DataLoader(dataset=train_dataset, batch_size=64, shuffle=True)\n",
    "test_loader = DataLoader(dataset=test_dataset, batch_size=64, shuffle=False)\n",
    "\n",
    "# LSTM 모델 정의\n",
    "class LSTMModel(nn.Module):\n",
    "    def __init__(self, input_size=28, hidden_size=128, output_size=10):\n",
    "        super(LSTMModel, self).__init__()\n",
    "        self.lstm = nn.LSTM(input_size, hidden_size, batch_first=True)\n",
    "        self.fc = nn.Linear(hidden_size, output_size)\n",
    "\n",
    "    def forward(self, x):\n",
    "        x = x.view(x.size(0), 28, 28)  # (batch_size, seq_len, input_size)\n",
    "        out, _ = self.lstm(x)  # LSTM 처리\n",
    "        out = self.fc(out[:, -1, :])  # 마지막 시퀀스의 출력\n",
    "        return out\n",
    "\n",
    "# 모델, 손실 함수 및 옵티마이저 설정\n",
    "cnn_model = LSTMModel().to(device)\n",
    "criterion = nn.CrossEntropyLoss()\n",
    "optimizer = optim.Adam(cnn_model.parameters(), lr=0.001)\n",
    "\n",
    "# EarlyStopping 콜백 설정\n",
    "early_stopping_callback = callbacks.EarlyStopping(patience=10)\n",
    "\n",
    "# 손실과 정확도를 기록할 리스트 초기화\n",
    "train_losses = []\n",
    "test_losses = []\n",
    "accuracies = []\n",
    "\n",
    "# 훈련 및 평가 함수 정의\n",
    "def train(model, device, train_loader, optimizer, epoch):\n",
    "    model.train()\n",
    "    total_loss = 0\n",
    "    for batch_idx, (data, target) in enumerate(train_loader):\n",
    "        data, target = data.to(device), target.to(device)\n",
    "        optimizer.zero_grad()  # 기울기 초기화\n",
    "        output = model(data)  # 예측\n",
    "        loss = criterion(output, target)  # 손실 계산\n",
    "        loss.backward()  # 역전파\n",
    "        optimizer.step()  # 가중치 업데이트\n",
    "\n",
    "        total_loss += loss.item()\n",
    "\n",
    "    average_loss = total_loss / len(train_loader)  # 평균 손실 반환\n",
    "    return average_loss\n",
    "\n",
    "def test(model, device, test_loader):\n",
    "    model.eval()\n",
    "    test_loss = 0\n",
    "    correct = 0\n",
    "    with torch.no_grad():\n",
    "        for data, target in test_loader:\n",
    "            data, target = data.to(device), target.to(device)\n",
    "            output = model(data)\n",
    "            test_loss += criterion(output, target).item() * data.size(0)\n",
    "            # 배치 손실 합산\n",
    "            pred = output.argmax(dim=1, keepdim=True)\n",
    "            # 가장 높은 값을 가진 클래스 선택\n",
    "            correct += pred.eq(target.view_as(pred)).sum().item()\n",
    "\n",
    "    average_loss = test_loss / len(test_loader.dataset)  # 평균 손실 계산\n",
    "    accuracy = 100. * correct / len(test_loader.dataset)  # 정확도 계산\n",
    "    return average_loss, accuracy  # 손실과 정확도 반환\n",
    "\n",
    "# 모델 훈련 및 평가 실행\n",
    "num_epochs = 5\n",
    "for epoch in range(1, num_epochs + 1):\n",
    "    train_loss = train(cnn_model, device, train_loader, optimizer, epoch)\n",
    "    test_loss, accuracy = test(cnn_model, device, test_loader)\n",
    "\n",
    "    # 손실과 정확도 기록\n",
    "    train_losses.append(train_loss)\n",
    "    test_losses.append(test_loss)\n",
    "    accuracies.append(accuracy)\n",
    "\n",
    "    # 훈련 손실, 테스트 손실 및 정확도 출력\n",
    "    print(f'Epoch [{epoch}/{num_epochs}] - '\n",
    "        f'Train Loss: {train_loss:.4f}, Test Loss: {test_loss:.4f}, Test Accuracy: {accuracy:.2f}%')\n",
    "\n",
    "# 훈련 손실, 테스트 손실, 정확도 리스트 출력\n",
    "print(\"\\nTraining Losses:\", train_losses)\n",
    "print(\"Test Losses:\", test_losses)\n",
    "print(\"Accuracies:\", accuracies)\n",
    "\n",
    "# 시각화 코드\n",
    "# 결과 시각화\n",
    "plt.figure(figsize=(12, 5))\n",
    "\n",
    "# 손실 그래프\n",
    "plt.subplot(1, 2, 1)\n",
    "plt.plot(range(1, num_epochs + 1), train_losses, label='Train Loss', color='blue')\n",
    "plt.plot(range(1, num_epochs + 1), test_losses, label='Test Loss', color='red')\n",
    "plt.title('Loss over Epochs')\n",
    "plt.xlabel('Epochs')\n",
    "plt.ylabel('Loss')\n",
    "plt.legend()\n",
    "plt.grid()\n",
    "\n",
    "# 정확도 그래프\n",
    "plt.subplot(1, 2, 2)\n",
    "plt.plot(range(1, num_epochs + 1), accuracies, label='Accuracy', color='orange')\n",
    "plt.title('Accuracy over Epochs')\n",
    "plt.xlabel('Epochs')\n",
    "plt.ylabel('Accuracy (%)')\n",
    "plt.ylim(0, 100)  # Y축 범위 설정\n",
    "\n",
    "plt.legend()\n",
    "plt.grid()\n",
    "\n",
    "plt.tight_layout()\n",
    "plt.show()  # 그래프 출력\n"
   ]
  }
 ],
 "metadata": {
  "colab": {
   "provenance": []
  },
  "kernelspec": {
   "display_name": "base",
   "language": "python",
   "name": "python3"
  },
  "language_info": {
   "codemirror_mode": {
    "name": "ipython",
    "version": 3
   },
   "file_extension": ".py",
   "mimetype": "text/x-python",
   "name": "python",
   "nbconvert_exporter": "python",
   "pygments_lexer": "ipython3",
   "version": "3.12.2"
  },
  "toc": {
   "base_numbering": 1,
   "nav_menu": {},
   "number_sections": false,
   "sideBar": true,
   "skip_h1_title": false,
   "title_cell": "Table of Contents",
   "title_sidebar": "Contents",
   "toc_cell": false,
   "toc_position": {},
   "toc_section_display": true,
   "toc_window_display": false
  }
 },
 "nbformat": 4,
 "nbformat_minor": 0
}
