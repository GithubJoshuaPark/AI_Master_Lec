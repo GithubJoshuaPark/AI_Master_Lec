{
 "cells": [
  {
   "cell_type": "markdown",
   "metadata": {},
   "source": [
    "# Python Basic\n",
    "## 1. Python Introduction\n",
    "Python is a high-level, interpreted, interactive and object-oriented scripting language. Python is designed to be highly readable. It uses English keywords frequently where as other languages use punctuation, and it has fewer syntactical constructions than other languages."
   ]
  },
  {
   "cell_type": "markdown",
   "metadata": {},
   "source": [
    "## Data types\n",
    "Python has five standard data types\n",
    "\n",
    "- Numbers\n",
    "- String\n",
    "- List\n",
    "- Tuple\n",
    "- Dictionary"
   ]
  },
  {
   "cell_type": "code",
   "execution_count": 1,
   "metadata": {},
   "outputs": [
    {
     "name": "stdout",
     "output_type": "stream",
     "text": [
      "Integer: 10\n",
      "Float: 20.5\n",
      "Complex: (1+2j)\n",
      "String: Hello, World!\n",
      "List: [1, 2, 3, 4, 5]\n",
      "Tuple: (1, 2, 3, 4, 5)\n",
      "Dictionary: {'name': 'Alice', 'age': 25, 'gender': 'F'}\n"
     ]
    }
   ],
   "source": [
    "# Numbers\n",
    "# Integer\n",
    "a = 10\n",
    "print(\"Integer:\", a)\n",
    "\n",
    "# Float\n",
    "b = 20.5\n",
    "print(\"Float:\", b)\n",
    "\n",
    "# Complex\n",
    "c = 1 + 2j\n",
    "print(\"Complex:\", c)\n",
    "\n",
    "# String\n",
    "s = \"Hello, World!\"\n",
    "print(\"String:\", s)\n",
    "\n",
    "# List\n",
    "lst = [1, 2, 3, 4, 5]\n",
    "print(\"List:\", lst)\n",
    "\n",
    "# Tuple\n",
    "tup = (1, 2, 3, 4, 5)\n",
    "print(\"Tuple:\", tup)\n",
    "\n",
    "# Dictionary\n",
    "d = {'name': 'Alice', 'age': 25, 'gender': 'F'}\n",
    "print(\"Dictionary:\", d)"
   ]
  },
  {
   "cell_type": "code",
   "execution_count": null,
   "metadata": {},
   "outputs": [],
   "source": [
    "# List functions\n",
    "print(\"List functions:\")\n",
    "print(\"Length of list:\", len(lst))\n",
    "print(\"Maximum value in list:\", max(lst))\n",
    "print(\"Minimum value in list:\", min(lst))\n",
    "print(\"Sum of list:\", sum(lst))\n",
    "\n",
    "# Tuple functions\n",
    "print(\"Tuple functions:\")\n",
    "print(\"Length of tuple:\", len(tup))\n",
    "print(\"Maximum value in tuple:\", max(tup))\n",
    "print(\"Minimum value in tuple:\", min(tup))\n",
    "print(\"Sum of tuple:\", sum(tup))\n",
    "\n",
    "# Dictionary functions\n",
    "print(\"Dictionary functions:\")\n",
    "print(\"Keys:\", d.keys())\n",
    "print(\"Values:\", d.values())\n",
    "print(\"Items:\", d.items())\n",
    "print(\"Get value of key 'name':\", d.get('name'))\n",
    "print(\"Get value of key 'age':\", d.get('age'))"
   ]
  },
  {
   "cell_type": "markdown",
   "metadata": {},
   "source": [
    "## Type Conversion\n",
    "The process of converting the value of one data type (integer, string, float, etc.) to another data type is called type conversion. Python has two types of type conversion."
   ]
  },
  {
   "cell_type": "code",
   "execution_count": 5,
   "metadata": {},
   "outputs": [
    {
     "name": "stdout",
     "output_type": "stream",
     "text": [
      "Type conversion:\n",
      "Convert integer to float: 10.0\n",
      "Convert float to integer: 20\n",
      "Convert integer to string: 10\n",
      "Convert string to integer: 10\n",
      "Convert string to float: 20.5\n",
      "Convert string to list: ['H', 'e', 'l', 'l', 'o']\n",
      "Convert list to string: 12345\n",
      "Convert tuple to list: [1, 2, 3, 4, 5]\n",
      "Convert list to tuple: (1, 2, 3, 4, 5)\n",
      "Convert dictionary to list: ['name', 'age', 'gender']\n",
      "Convert dictionary to tuple: ('name', 'age', 'gender')\n",
      "Convert dictionary to string: {'name': 'Alice', 'age': 25, 'gender': 'F'}\n",
      "Convert string to dictionary using dict(): {'name': 'Alice', 'age': 25}\n",
      "Convert string to list using eval(): [1, 2, 3, 4, 5]\n",
      "Convert string to dictionary usng eval(): {'name': 'Alice', 'age': 25}\n",
      "Convert string to tuple: (1, 2, 3, 4, 5)\n",
      "Convert string to complex: (1+2j)\n"
     ]
    }
   ],
   "source": [
    "# Type conversion\n",
    "print(\"Type conversion:\")\n",
    "# Convert integer to float\n",
    "print(\"Convert integer to float:\", float(a))\n",
    "# Convert float to integer\n",
    "print(\"Convert float to integer:\", int(b))\n",
    "# Convert integer to string\n",
    "print(\"Convert integer to string:\", str(a))\n",
    "# Convert string to integer\n",
    "print(\"Convert string to integer:\", int(\"10\"))\n",
    "# Convert string to float\n",
    "print(\"Convert string to float:\", float(\"20.5\"))\n",
    "# Convert string to list\n",
    "print(\"Convert string to list:\", list(\"Hello\"))\n",
    "# Convert list to string\n",
    "print(\"Convert list to string:\", \"\".join(map(str, lst)))\n",
    "# Convert tuple to list\n",
    "print(\"Convert tuple to list:\", list(tup))\n",
    "# Convert list to tuple\n",
    "print(\"Convert list to tuple:\", tuple(lst))\n",
    "# Convert dictionary to list\n",
    "print(\"Convert dictionary to list:\", list(d))\n",
    "# Convert dictionary to tuple\n",
    "print(\"Convert dictionary to tuple:\", tuple(d))\n",
    "# Convert dictionary to string\n",
    "print(\"Convert dictionary to string:\", str(d))\n",
    "# Convert string to dictionary using dict() which converts the list of tuples to dictionary\n",
    "print(\"Convert string to dictionary using dict():\", dict([(\"name\", \"Alice\"), (\"age\", 25)]))\n",
    "# Convert string to list using eval which evaluates the expression and returns the result in the form of list\n",
    "print(\"Convert string to list using eval():\", eval(\"[1, 2, 3, 4, 5]\"))\n",
    "# Convert string to dictionary using eval which evaluates the expression and returns the result in the form of dictionary\n",
    "print(\"Convert string to dictionary usng eval():\", eval(\"{'name': 'Alice', 'age': 25}\"))\n",
    "# Convert string to tuple\n",
    "print(\"Convert string to tuple:\", eval(\"(1, 2, 3, 4, 5)\"))\n",
    "# Convert string to complex\n",
    "print(\"Convert string to complex:\", complex(\"1+2j\"))"
   ]
  },
  {
   "cell_type": "code",
   "execution_count": null,
   "metadata": {},
   "outputs": [
    {
     "name": "stdout",
     "output_type": "stream",
     "text": [
      "if-else:\n",
      "a is positive\n"
     ]
    }
   ],
   "source": [
    "## Python if-else\n",
    "# if-else\n",
    "print(\"if-else:\")\n",
    "a = 10\n",
    "if a > 0:\n",
    "    print(\"a is positive\")\n",
    "else:\n",
    "    print(\"a is negative\")"
   ]
  },
  {
   "cell_type": "code",
   "execution_count": 2,
   "metadata": {},
   "outputs": [
    {
     "name": "stdout",
     "output_type": "stream",
     "text": [
      "if-elif-else:\n",
      "a is zero\n"
     ]
    }
   ],
   "source": [
    "## Python if-elif-else\n",
    "# if-elif-else\n",
    "print(\"if-elif-else:\")\n",
    "a = 0\n",
    "if a > 0:\n",
    "    print(\"a is positive\")\n",
    "elif a < 0:\n",
    "    print(\"a is negative\")\n",
    "else:\n",
    "    print(\"a is zero\")"
   ]
  },
  {
   "cell_type": "code",
   "execution_count": 3,
   "metadata": {},
   "outputs": [
    {
     "name": "stdout",
     "output_type": "stream",
     "text": [
      "for loop:\n",
      "0\n",
      "1\n",
      "2\n",
      "3\n",
      "4\n"
     ]
    }
   ],
   "source": [
    "## Python for loop\n",
    "# for loop\n",
    "print(\"for loop:\")\n",
    "for i in range(5):\n",
    "    print(i)"
   ]
  },
  {
   "cell_type": "code",
   "execution_count": 4,
   "metadata": {},
   "outputs": [
    {
     "name": "stdout",
     "output_type": "stream",
     "text": [
      "while loop:\n",
      "0\n",
      "1\n",
      "2\n",
      "3\n",
      "4\n"
     ]
    }
   ],
   "source": [
    "## Python while loop\n",
    "# while loop\n",
    "print(\"while loop:\")\n",
    "i = 0\n",
    "while i < 5:\n",
    "    print(i)\n",
    "    i += 1"
   ]
  },
  {
   "cell_type": "code",
   "execution_count": 5,
   "metadata": {},
   "outputs": [
    {
     "name": "stdout",
     "output_type": "stream",
     "text": [
      "break:\n",
      "0\n",
      "1\n",
      "2\n"
     ]
    }
   ],
   "source": [
    "## Python break\n",
    "# break\n",
    "print(\"break:\")\n",
    "for i in range(5):\n",
    "    if i == 3:\n",
    "        break\n",
    "    print(i)"
   ]
  },
  {
   "cell_type": "code",
   "execution_count": 6,
   "metadata": {},
   "outputs": [
    {
     "name": "stdout",
     "output_type": "stream",
     "text": [
      "continue:\n",
      "0\n",
      "1\n",
      "2\n",
      "4\n"
     ]
    }
   ],
   "source": [
    "## Python continue\n",
    "# continue\n",
    "print(\"continue:\")\n",
    "for i in range(5):\n",
    "    if i == 3:\n",
    "        continue\n",
    "    print(i)"
   ]
  },
  {
   "cell_type": "code",
   "execution_count": null,
   "metadata": {},
   "outputs": [
    {
     "name": "stdout",
     "output_type": "stream",
     "text": [
      "pass:\n",
      "0\n",
      "1\n",
      "2\n",
      "3\n",
      "4\n"
     ]
    }
   ],
   "source": [
    "## Python pass\n",
    "# pass\n",
    "print(\"pass:\")\n",
    "for i in range(5):\n",
    "    if i == 3:\n",
    "        pass ## do nothing\n",
    "    print(i)"
   ]
  },
  {
   "cell_type": "code",
   "execution_count": 8,
   "metadata": {},
   "outputs": [
    {
     "name": "stdout",
     "output_type": "stream",
     "text": [
      "function:\n",
      "a + b = 30\n"
     ]
    }
   ],
   "source": [
    "## Python functions\n",
    "# function\n",
    "print(\"function:\")\n",
    "def add(a, b):\n",
    "    return a + b\n",
    "\n",
    "addition = add(10, 20)\n",
    "print(f'a + b = {addition}')"
   ]
  },
  {
   "cell_type": "code",
   "execution_count": 11,
   "metadata": {},
   "outputs": [
    {
     "name": "stdout",
     "output_type": "stream",
     "text": [
      "lambda function:\n",
      "a + b = 30\n"
     ]
    }
   ],
   "source": [
    "## Python lambda function\n",
    "# lambda function\n",
    "print(\"lambda function:\")\n",
    "add = lambda a, b: a + b ## lambda function which gets two arguments a and b and returns the sum of a and b\n",
    "addition = add(10, 20)\n",
    "print(f'a + b = {addition}')\n"
   ]
  },
  {
   "cell_type": "code",
   "execution_count": 12,
   "metadata": {},
   "outputs": [
    {
     "name": "stdout",
     "output_type": "stream",
     "text": [
      "map function:\n",
      "Square of list: [1, 4, 9, 16, 25]\n"
     ]
    }
   ],
   "source": [
    "## Python map function\n",
    "# map function which gets a function and a list as input and applies the function to each element in the list\n",
    "print(\"map function:\")\n",
    "lst = [1, 2, 3, 4, 5]\n",
    "squared = list(map(lambda x: x**2, lst)) ## square of each element in the list\n",
    "print(\"Square of list:\", squared)"
   ]
  },
  {
   "cell_type": "code",
   "execution_count": 14,
   "metadata": {},
   "outputs": [
    {
     "name": "stdout",
     "output_type": "stream",
     "text": [
      "filter function:\n",
      "Even numbers in list: [2, 4, 6, 8, 10]\n"
     ]
    }
   ],
   "source": [
    "## Python filter function\n",
    "# filter function which gets a function and a list as input and applies the function to each element in the list\n",
    "# and returns the elements which satisfy the condition\n",
    "print(\"filter function:\")\n",
    "lst = [1, 2, 3, 4, 5, 6, 7, 8, 9, 10]\n",
    "even = list(filter(lambda x: x%2 == 0, lst)) ## even numbers in the list\n",
    "print(\"Even numbers in list:\", even)"
   ]
  },
  {
   "cell_type": "code",
   "execution_count": 15,
   "metadata": {},
   "outputs": [
    {
     "name": "stdout",
     "output_type": "stream",
     "text": [
      "reduce function:\n",
      "Sum of list: 15\n"
     ]
    }
   ],
   "source": [
    "## Python reduce function\n",
    "# reduce function which gets a function and a list as input and applies the function to each element in the list\n",
    "# and returns the result\n",
    "from functools import reduce\n",
    "print(\"reduce function:\")\n",
    "lst = [1, 2, 3, 4, 5]\n",
    "sum = reduce(lambda x, y: x + y, lst) ## sum of all elements in the list\n",
    "print(\"Sum of list:\", sum)"
   ]
  },
  {
   "cell_type": "code",
   "execution_count": 16,
   "metadata": {},
   "outputs": [
    {
     "name": "stdout",
     "output_type": "stream",
     "text": [
      "zip function:\n",
      "Zipped list: [(1, 10), (2, 20), (3, 30), (4, 40), (5, 50)]\n"
     ]
    }
   ],
   "source": [
    "## Python zip function\n",
    "# zip function which gets multiple lists as input and returns the elements of the lists at the same index\n",
    "print(\"zip function:\")\n",
    "lst1 = [1, 2, 3, 4, 5]\n",
    "lst2 = [10, 20, 30, 40, 50]\n",
    "zipped = list(zip(lst1, lst2))\n",
    "print(\"Zipped list:\", zipped)"
   ]
  },
  {
   "cell_type": "code",
   "execution_count": 17,
   "metadata": {},
   "outputs": [
    {
     "name": "stdout",
     "output_type": "stream",
     "text": [
      "enumerate function:\n",
      "Enumerated list: [(0, 10), (1, 20), (2, 30), (3, 40), (4, 50)]\n"
     ]
    }
   ],
   "source": [
    "## Python enumerate function\n",
    "# enumerate function which gets a list as input and returns the index and element of the list\n",
    "print(\"enumerate function:\")\n",
    "lst = [10, 20, 30, 40, 50]\n",
    "enumerated = list(enumerate(lst))\n",
    "print(\"Enumerated list:\", enumerated)"
   ]
  },
  {
   "cell_type": "code",
   "execution_count": 18,
   "metadata": {},
   "outputs": [
    {
     "name": "stdout",
     "output_type": "stream",
     "text": [
      "list comprehension:\n",
      "List: [0, 1, 2, 3, 4]\n"
     ]
    }
   ],
   "source": [
    "## Python list comprehension\n",
    "# list comprehension\n",
    "print(\"list comprehension:\")\n",
    "lst = [i for i in range(5)]\n",
    "print(\"List:\", lst)"
   ]
  },
  {
   "cell_type": "code",
   "execution_count": 19,
   "metadata": {},
   "outputs": [
    {
     "name": "stdout",
     "output_type": "stream",
     "text": [
      "set:\n",
      "Set: {1, 2, 3, 4, 5}\n"
     ]
    }
   ],
   "source": [
    "## Python set\n",
    "# set\n",
    "print(\"set:\")\n",
    "s = {1, 2, 3, 4, 5}\n",
    "print(\"Set:\", s)"
   ]
  },
  {
   "cell_type": "code",
   "execution_count": 20,
   "metadata": {},
   "outputs": [
    {
     "name": "stdout",
     "output_type": "stream",
     "text": [
      "set functions:\n",
      "Union of sets: {1, 2, 3, 4, 5, 6, 7, 8}\n",
      "Intersection of sets: {4, 5}\n",
      "Difference of sets: {1, 2, 3}\n",
      "Symmetric difference of sets: {1, 2, 3, 6, 7, 8}\n"
     ]
    }
   ],
   "source": [
    "## Python set functions\n",
    "# set functions\n",
    "print(\"set functions:\")\n",
    "s1 = {1, 2, 3, 4, 5}\n",
    "s2 = {4, 5, 6, 7, 8}\n",
    "print(\"Union of sets:\", s1.union(s2))\n",
    "print(\"Intersection of sets:\", s1.intersection(s2))\n",
    "print(\"Difference of sets:\", s1.difference(s2))\n",
    "print(\"Symmetric difference of sets:\", s1.symmetric_difference(s2))"
   ]
  },
  {
   "cell_type": "code",
   "execution_count": 23,
   "metadata": {},
   "outputs": [
    {
     "name": "stdout",
     "output_type": "stream",
     "text": [
      "set comprehension:\n",
      "Set: {0, 1, 2, 3, 4}\n",
      "Set with condition: {0, 2, 4}\n",
      "Union of sets: {0, 1, 2, 3, 4, 5, 6, 7, 8, 9}\n"
     ]
    }
   ],
   "source": [
    "## Python set comprehension\n",
    "# set comprehension\n",
    "print(\"set comprehension:\")\n",
    "s = {i for i in range(5)}\n",
    "t = {i for i in range(5) if i % 2 == 0}\n",
    "print(\"Set:\", s)\n",
    "print(\"Set with condition:\", t)\n",
    "union_set = {i for i in range(5)} | {i for i in range(5, 10)}\n",
    "print(\"Union of sets:\", union_set)\n"
   ]
  },
  {
   "cell_type": "code",
   "execution_count": 24,
   "metadata": {},
   "outputs": [
    {
     "name": "stdout",
     "output_type": "stream",
     "text": [
      "dictionary comprehension:\n",
      "Dictionary: {0: 0, 1: 1, 2: 4, 3: 9, 4: 16}\n"
     ]
    }
   ],
   "source": [
    "## Python dictionary comprehension\n",
    "# dictionary comprehension\n",
    "print(\"dictionary comprehension:\")\n",
    "d = {i: i**2 for i in range(5)}\n",
    "print(\"Dictionary:\", d)"
   ]
  },
  {
   "cell_type": "code",
   "execution_count": 25,
   "metadata": {},
   "outputs": [
    {
     "name": "stdout",
     "output_type": "stream",
     "text": [
      "exception handling:\n",
      "Division by zero error\n"
     ]
    }
   ],
   "source": [
    "## Python exception handling\n",
    "# exception handling\n",
    "print(\"exception handling:\")\n",
    "try:\n",
    "    a = 10 / 0\n",
    "except ZeroDivisionError:\n",
    "    print(\"Division by zero error\")\n",
    "except:\n",
    "    print(\"Error\")"
   ]
  },
  {
   "cell_type": "code",
   "execution_count": 26,
   "metadata": {},
   "outputs": [
    {
     "name": "stdout",
     "output_type": "stream",
     "text": [
      "file handling:\n",
      "Hello, World!\n"
     ]
    }
   ],
   "source": [
    "## Python file handling\n",
    "# file handling\n",
    "print(\"file handling:\")\n",
    "# write to file\n",
    "with open(\"file.txt\", \"w\") as f:\n",
    "    f.write(\"Hello, World!\")\n",
    "# read from file\n",
    "with open(\"file.txt\", \"r\") as f:\n",
    "    print(f.read())"
   ]
  },
  {
   "cell_type": "code",
   "execution_count": 57,
   "metadata": {},
   "outputs": [
    {
     "name": "stdout",
     "output_type": "stream",
     "text": [
      "classes and objects:\n",
      "Name: Alice, Age: 25\n",
      "inheritance:\n",
      "Name: Bob, Age: 20\n",
      "Roll No: 101\n",
      "---------------------------------\n",
      "Reading from file:\n",
      "---------------------------------\n",
      "Line 1: Hello, World!\n",
      "Line 2: Hello, World!\n",
      "Line 3: Hello, World!\n",
      "Line 4: Hello, World!\n",
      "\n",
      "---------------------------------\n",
      "Writing to file: >>\n",
      "---------------------------------\n",
      "Reading from file:\n",
      "---------------------------------\n",
      "Line 1: Hello, World!\n",
      "Line 2: Hello, World!\n",
      "Line 3: Hello, World!\n",
      "Line 4: Hello, World!\n",
      "Line 5: Hello, World!\n",
      "\n",
      "---------------------------------\n"
     ]
    }
   ],
   "source": [
    "## Python classes and objects\n",
    "# classes and objects\n",
    "print(\"classes and objects:\")\n",
    "class Person:\n",
    "    def __init__(self, name, age):\n",
    "        self.name = name\n",
    "        self.age = age\n",
    "\n",
    "    def display(self):\n",
    "        print(f\"Name: {self.name}, Age: {self.age}\")\n",
    "\n",
    "p = Person(\"Alice\", 25)\n",
    "p.display()\n",
    "\n",
    "## Python inheritance\n",
    "# inheritance\n",
    "print(\"inheritance:\")\n",
    "class Student(Person):\n",
    "    def __init__(self, name, age, rollno):\n",
    "        super().__init__(name, age)\n",
    "        self.rollno = rollno\n",
    "\n",
    "    def display(self):\n",
    "        super().display()\n",
    "        print(f\"Roll No: {self.rollno}\")\n",
    "        \n",
    "    def fileOpenAndRead(self):\n",
    "        print(\"---------------------------------\")\n",
    "        print(\"Reading from file:\")\n",
    "        print(\"---------------------------------\")\n",
    "        # if file is not exist, it will throw FileNotFoundError\n",
    "        try:\n",
    "            with open(\"file.txt\", \"r\") as f:\n",
    "                print(f.read())\n",
    "                print(\"---------------------------------\")\n",
    "        except FileNotFoundError:\n",
    "            print(\"File not found\")\n",
    "            print(\"---------------------------------\")\n",
    "\n",
    "    def fileOpenAndWrite(self):\n",
    "        print(\"Writing to file: >>\")\n",
    "        # file open to append mode\n",
    "        line_cnt = 0\n",
    "        with open(\"file.txt\", \"a\") as f:\n",
    "            with open(\"file.txt\", \"r\") as fr:\n",
    "                line_cnt = len(fr.readlines())\n",
    "            f.write(f\"Line {line_cnt + 1}: Hello, World!\\n\")\n",
    "\n",
    "s = Student(\"Bob\", 20, 101)\n",
    "s.display()\n",
    "s.fileOpenAndRead()\n",
    "s.fileOpenAndWrite()\n",
    "s.fileOpenAndRead()\n"
   ]
  },
  {
   "cell_type": "code",
   "execution_count": 60,
   "metadata": {},
   "outputs": [
    {
     "name": "stdout",
     "output_type": "stream",
     "text": [
      "modules:\n",
      "Square root of 25: 5.0\n",
      "Factorial of 5: 120\n",
      "Pi: 3.141592653589793\n"
     ]
    }
   ],
   "source": [
    "## Python modules\n",
    "# modules\n",
    "print(\"modules:\")\n",
    "import math\n",
    "print(\"Square root of 25:\", math.sqrt(25))\n",
    "print(\"Factorial of 5:\", math.factorial(5))\n",
    "print(\"Pi:\", math.pi)"
   ]
  }
 ],
 "metadata": {
  "kernelspec": {
   "display_name": "base",
   "language": "python",
   "name": "python3"
  },
  "language_info": {
   "codemirror_mode": {
    "name": "ipython",
    "version": 3
   },
   "file_extension": ".py",
   "mimetype": "text/x-python",
   "name": "python",
   "nbconvert_exporter": "python",
   "pygments_lexer": "ipython3",
   "version": "3.12.2"
  }
 },
 "nbformat": 4,
 "nbformat_minor": 2
}
