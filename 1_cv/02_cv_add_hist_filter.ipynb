{
 "cells": [
  {
   "cell_type": "code",
   "execution_count": 1,
   "metadata": {},
   "outputs": [],
   "source": [
    "import sys\n",
    "import numpy as np\n",
    "import cv2\n",
    "import matplotlib.pyplot as plt"
   ]
  },
  {
   "cell_type": "markdown",
   "metadata": {},
   "source": [
    "### 1. 화소처리"
   ]
  },
  {
   "cell_type": "code",
   "execution_count": 1,
   "metadata": {},
   "outputs": [],
   "source": [
    "# add(src1, src2[, dst[, mask[, dtype]]]) -> dst\n",
    "# src1: 첫번째 입력영상\n",
    "# src2: 두번째 입력영상\n",
    "# dst: 덧셈 연산의 결과\n",
    "# mask: 마스크 영상\n",
    "# dtype: 출력영상의 타입 (예, cv2.CV_8U, cv2.CV_32F)\n",
    "\n",
    "## add, subract, addweighted, absdiff, multiply, divivde"
   ]
  },
  {
   "cell_type": "code",
   "execution_count": 2,
   "metadata": {},
   "outputs": [],
   "source": [
    "\n",
    "src = cv2.imread(\"./fig/lenna.png\", cv2.IMREAD_COLOR)\n",
    "\n",
    "if src is None:\n",
    "    print(\"image read failed\")\n",
    "    sys.exit()\n",
    "\n",
    "dst1 = cv2.add(src, 100) # 클리핑\n",
    "#dst1 = np.clip(src + 100., 0, 255).astype(np.uint8)\n",
    "\n",
    "dst2 = cv2.add(src, (0, 0, 250, 0)) # 클리핑\n",
    "\n",
    "cv2.imshow(\"src\", src)\n",
    "cv2.imshow(\"dst1\", dst1)\n",
    "cv2.imshow(\"dst2\", dst2)\n",
    "\n",
    "cv2.waitKey()\n",
    "cv2.destroyAllWindows()"
   ]
  },
  {
   "cell_type": "code",
   "execution_count": 3,
   "metadata": {},
   "outputs": [],
   "source": [
    "\n",
    "src1 = cv2.imread(\"./fig/lenna.png\", cv2.IMREAD_GRAYSCALE)\n",
    "src2 = np.zeros((220, 220), np.uint8)\n",
    "cv2.circle(src2, (110, 110), 80, 200, -1)\n",
    "cv2.circle(src2, (110, 110), 40, 50, -1)\n",
    "\n",
    "if src is None:\n",
    "    print(\"image read failed\")\n",
    "    sys.exit()\n",
    "\n",
    "# cv2.divide, cv2.multiply()\n",
    "dst1 = cv2.add(src1, src2)\n",
    "\n",
    "dst2 = cv2.subtract(src1, src2)\n",
    "dst3 = cv2.addWeighted(src1, 0.8, src2, 0.2, 0.0)\n",
    "dst4 = cv2.absdiff(src1, src2)\n",
    "dst5 = cv2.divide(src1, 2)\n",
    "dst6 = cv2.multiply(src1, 2)\n",
    "\n",
    "cv2.imshow(\"src1\", src1)\n",
    "cv2.imshow(\"src2\", src2)\n",
    "cv2.imshow(\"add\", dst1)\n",
    "cv2.imshow(\"subtract\", dst2)\n",
    "cv2.imshow(\"addWeighted\", dst3)\n",
    "cv2.imshow(\"absdiff\", dst4)\n",
    "cv2.imshow(\"divide\", dst5)\n",
    "cv2.imshow(\"multiply\", dst6)\n",
    "\n",
    "cv2.waitKey()\n",
    "cv2.destroyAllWindows()"
   ]
  },
  {
   "cell_type": "code",
   "execution_count": 4,
   "metadata": {},
   "outputs": [],
   "source": [
    "src = cv2.imread(\"./fig/rose.jpg\", cv2.IMREAD_COLOR)\n",
    "background = np.ones_like(src)*255\n",
    "\n",
    "weight = np.arange(0, 1, 0.01)\n",
    "# print(weight)\n",
    "\n",
    "for i in weight:\n",
    "    dst = cv2.addWeighted(src, i, background, 1-i, 0.0)\n",
    "    cv2.imshow('dst', dst)\n",
    "\n",
    "    if cv2.waitKey(100) == 27:\n",
    "        break\n",
    "\n",
    "cv2.destroyAllWindows()"
   ]
  },
  {
   "cell_type": "markdown",
   "metadata": {},
   "source": [
    "### 2. BGR 채널 분리/조합"
   ]
  },
  {
   "cell_type": "code",
   "execution_count": null,
   "metadata": {},
   "outputs": [],
   "source": [
    "## cv2.split(m, mv=None) -> dst\n",
    "# m: 다채널 컬러영상\n",
    "# mv: 츨력영상\n",
    "# dst: 출력영상의 리스트\n",
    "\n",
    "## cv2.merge(mv, mv=None) -> dst\n",
    "# mv: 입력영상의 리스트\n",
    "\n",
    "# RGB to Grayscale\n",
    "# Y = 0.299R + 0.587G + 0.114B "
   ]
  },
  {
   "cell_type": "code",
   "execution_count": 5,
   "metadata": {},
   "outputs": [],
   "source": [
    "src = cv2.imread(\"./fig/rose.jpg\")\n",
    "\n",
    "if src is None:\n",
    "    print('image read failed')\n",
    "    sys.exit()\n",
    "\n",
    "b, g, r = cv2.split(src) #\n",
    "dst = cv2.merge((r, g, b)) #\n",
    "\n",
    "cv2.namedWindow(\"rose\", cv2.WINDOW_NORMAL)\n",
    "cv2.imshow(\"rose\", src)\n",
    "cv2.imshow(\"rgb\", dst)\n",
    "cv2.imshow(\"b\", b)\n",
    "cv2.imshow(\"g\", g)\n",
    "cv2.imshow(\"r\", r)\n",
    "\n",
    "\n",
    "cv2.waitKey()\n",
    "cv2.destroyAllWindows()"
   ]
  },
  {
   "cell_type": "markdown",
   "metadata": {},
   "source": [
    "### 3. 영상 히스토그램"
   ]
  },
  {
   "cell_type": "code",
   "execution_count": 12,
   "metadata": {},
   "outputs": [],
   "source": [
    "# cv2.calcHist(images, channels, mask, histSize, ranges[, hist[, accumulate]]) -> hist\n",
    "# images: 입력영상 리스트(리스트로 입력)\n",
    "# channels: 채널리스트, 3 채널의 경우 [0,1,2]\n",
    "# mask: 마스크 영상입력, 영상전체는 None으로 지정\n",
    "# histSize: 히스터그램 빈의 크기\n",
    "# range: 히스토그램의 최솟값과 최댓값\n",
    "# hist: 계산된 히스토그램, numpy.ndarray 타입\n",
    "# accumulate: 기존의 히스토그램을 누적할경우 True"
   ]
  },
  {
   "cell_type": "code",
   "execution_count": 6,
   "metadata": {},
   "outputs": [
    {
     "data": {
      "image/png": "[encoded data removed]",
      "text/plain": [
       "<Figure size 640x480 with 1 Axes>"
      ]
     },
     "metadata": {},
     "output_type": "display_data"
    }
   ],
   "source": [
    "src = cv2.imread(\"./fig/lenna.png\", cv2.IMREAD_COLOR)\n",
    "\n",
    "if src is None:\n",
    "    print(\"Image read failed\")\n",
    "    sys.exit()\n",
    "\n",
    "hist_b = cv2.calcHist([src], [0], None, [256], [0, 256]) # (256, 1)\n",
    "hist_g = cv2.calcHist([src], [1], None, [256], [0, 255])\n",
    "hist_r = cv2.calcHist([src], [2], None, [256], [0, 255])\n",
    "\n",
    "# colors = ['b', 'g', 'r']\n",
    "# bgr_planes = cv2.split(src)\n",
    "\n",
    "# for (p, c) in zip(bgr_planes, colors):\n",
    "#     hist = cv2.calcHist([p], [0], None, [256], [0, 256])\n",
    "#     plt.plot(hist, color=c)\n",
    "\n",
    "# plt.plot(hist_b, color = \"b\")\n",
    "# plt.plot(hist_g, color = \"g\")\n",
    "# plt.plot(hist_r, color = \"r\")\n",
    "# plt.show()\n",
    "\n",
    "plt.bar(np.arange(len(hist_b)), hist_b[:,0], color = \"b\", alpha = 0.5)\n",
    "plt.bar(np.arange(len(hist_g)), hist_g[:,0], color = \"g\", alpha = 0.5)\n",
    "plt.bar(np.arange(len(hist_r)), hist_r[:,0], color = \"r\", alpha = 0.5)\n",
    "plt.show()\n",
    "\n",
    "cv2.imshow(\"lenna\", src)\n",
    "cv2.waitKey(0)\n",
    "cv2.destroyAllWindows()"
   ]
  },
  {
   "cell_type": "markdown",
   "metadata": {},
   "source": [
    "### 4. 히스토그램 정규화"
   ]
  },
  {
   "cell_type": "code",
   "execution_count": 2,
   "metadata": {},
   "outputs": [],
   "source": [
    "# cv2.normalize(src, dst=None, alpha=None, beta=None, norm_type=None, dtype=None, mask=None) -> dst\n",
    "# src: 입력영상\n",
    "# dst: 결과영상\n",
    "# alpha: 정규화 최소값 (예, 0)\n",
    "# beta: 정규화 최댓값 (예, 155)\n",
    "# norm_type: cv2.NORM_MINMAX\n",
    "# dtype =  -1, src와 같은 type"
   ]
  },
  {
   "cell_type": "code",
   "execution_count": null,
   "metadata": {},
   "outputs": [],
   "source": [
    "src = cv2.imread('fig/puppy_shrink.png')\n",
    "# src = cv2.imread('fig/mri_brain.jpeg')\n",
    "# src = cv2.imread('fig/autumn.jpg', cv2.IMREAD_REDUCED_COLOR_4)\n",
    "# src = cv2.imread('fig/manjang.jpg')\n",
    "\n",
    "\n",
    "if src is None:\n",
    "    print('Image load failed!')\n",
    "    sys.exit()\n",
    "\n",
    "# minMaxLoc(src[, mask]) -> minVal, maxVal, minLoc, maxLoc\n",
    "# smin, smax, _, _ = cv2.minMaxLoc(src)\n",
    "\n",
    "dst_norm = cv2.normalize(src, None, 0, 255, cv2.NORM_MINMAX, -1)\n",
    "# dst = np.clip(255*(src-smin)/(smax-smin) + 0, 0, 255).astype(np.uint8)\n",
    "\n",
    "cv2.imshow('src', src)\n",
    "cv2.imshow('dst_norm', dst_norm)\n",
    "\n",
    "cv2.waitKey()\n",
    "\n",
    "cv2.destroyAllWindows()"
   ]
  }
 ],
 "metadata": {
  "kernelspec": {
   "display_name": "base",
   "language": "python",
   "name": "python3"
  },
  "language_info": {
   "codemirror_mode": {
    "name": "ipython",
    "version": 3
   },
   "file_extension": ".py",
   "mimetype": "text/x-python",
   "name": "python",
   "nbconvert_exporter": "python",
   "pygments_lexer": "ipython3",
   "version": "3.12.2"
  }
 },
 "nbformat": 4,
 "nbformat_minor": 2
}
