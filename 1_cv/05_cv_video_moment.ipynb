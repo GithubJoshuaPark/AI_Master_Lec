{
 "cells": [
  {
   "cell_type": "code",
   "execution_count": 1,
   "metadata": {},
   "outputs": [],
   "source": [
    "import numpy as np\n",
    "import cv2\n",
    "import sys\n",
    "import matplotlib.pyplot as plt"
   ]
  },
  {
   "cell_type": "markdown",
   "metadata": {},
   "source": [
    "### 1. Object tracking"
   ]
  },
  {
   "cell_type": "code",
   "execution_count": 2,
   "metadata": {},
   "outputs": [],
   "source": [
    "## 동영상\n",
    "cap = cv2.VideoCapture(\"./fig/video/PETS2000.avi\")\n",
    "\n",
    "if not cap.isOpened():\n",
    "    print(\"Video open failed\")\n",
    "    sys.exit()\n",
    "\n",
    "while True:\n",
    "    ret, frame = cap.read()\n",
    "\n",
    "    cv2.imshow(\"frame\", frame)\n",
    "\n",
    "    if cv2.waitKey(20) == 27:\n",
    "        break\n",
    "\n",
    "cap.release()\n",
    "cv2.destroyAllWindows()"
   ]
  },
  {
   "cell_type": "code",
   "execution_count": null,
   "metadata": {},
   "outputs": [],
   "source": [
    "# cv2.connectedComponentsWithStats(image, labels=None, stats=None, centroids=None, connectivity=None, ltype=None) -> retval, labels, stats, centroids\n",
    "\n",
    "#  image: 8비트 1채널 영상\n",
    "#  labels: 레이블 맵 행렬. 입력 영상과 같은 크기. numpy.ndarray.\n",
    "#  stats: 각 객체의 바운딩 박스, 픽셀 개수 정보를 담은 행렬. numpy.ndarray. shape=(N, 5), dtype=numpy.int32.\n",
    "#  centroids: 각 객체의 무게 중심 위치 정보를 담은 행렬 numpy.ndarray. shape=(N, 2), dtype=numpy.float64.\n",
    "# ltype: labels 행렬 타입. cv2.CV_32S 또는 cv2.CV_16S. 기본값은 cv2.CV_32S"
   ]
  },
  {
   "cell_type": "code",
   "execution_count": 3,
   "metadata": {},
   "outputs": [],
   "source": [
    "cap = cv2.VideoCapture(\"./fig/video/PETS2000.avi\")\n",
    "if not cap.isOpened():\n",
    "    print(\"Video open failed\")\n",
    "    sys.exit()\n",
    "\n",
    "ret, background = cap.read()\n",
    "background_gray = cv2.cvtColor(background, cv2.COLOR_BGR2GRAY)\n",
    "background_gray_G = cv2.GaussianBlur(background_gray, (0, 0), 1.) \n",
    "# cv2.imshow(\"background\", background)\n",
    "# cv2.waitKey()\n",
    "while True:\n",
    "    ret, frame = cap.read() # fps: frame per second\n",
    "\n",
    "    if not ret:\n",
    "        break\n",
    "    frame_gray = cv2.cvtColor(frame, cv2.COLOR_BGR2GRAY)\n",
    "    frame_gray_G = cv2.GaussianBlur(frame_gray, (0, 0), 1.)\n",
    "    diff_G = cv2.absdiff(frame_gray_G, background_gray_G)\n",
    "    ret_g, mask_g = cv2.threshold(diff_G, 50, 255, cv2.THRESH_BINARY)\n",
    "    # mask_g = cv2.dilate(mask_g, None, iterations=1)\n",
    "    # mask_g = cv2.morphologyEx(mask_g, cv2.MORPH_CLOSE, None, iterations=2)\n",
    "    cnts, labels, stats, centroids = cv2.connectedComponentsWithStats(mask_g)\n",
    "    for i in range(1, cnts):\n",
    "        x, y, w, h, area = stats[i]\n",
    "        if area <= 400:\n",
    "            continue\n",
    "        cv2.rectangle(frame, (x, y, w, h), (0, 0, 255), 2)\n",
    "\n",
    "    cv2.imshow(\"frame\", frame)\n",
    "    cv2.imshow(\"diff\", diff_G)\n",
    "    cv2.imshow(\"mask_g\", mask_g)\n",
    "\n",
    "    if cv2.waitKey(20) == 27:\n",
    "        break\n",
    "\n",
    "cv2.destroyAllWindows()\n",
    "cap.release()\n"
   ]
  },
  {
   "cell_type": "markdown",
   "metadata": {},
   "source": [
    "### 2. 이동 평균 배경 차분"
   ]
  },
  {
   "cell_type": "code",
   "execution_count": null,
   "metadata": {},
   "outputs": [],
   "source": [
    "# accumulateWeighted(src, dst, alpha, mask) -> dst\n",
    "# src: 입력영상\n",
    "# dis: 출력영상 (32bit, 64bit)\n",
    "# alpha : 축적가중치\n",
    "# mask: 마스트 영상"
   ]
  },
  {
   "cell_type": "code",
   "execution_count": 4,
   "metadata": {},
   "outputs": [],
   "source": [
    "## 이동 평균 배경 차분\n",
    "cap = cv2.VideoCapture(\"./fig/video/PETS2000.avi\")\n",
    "\n",
    "if not cap.isOpened():\n",
    "    print(\"Video open failed\")\n",
    "    sys.exit()\n",
    "ret, back = cap.read()\n",
    "back = cv2.cvtColor(back, cv2.COLOR_BGR2GRAY)\n",
    "back = cv2.GaussianBlur(back, (0, 0), 1.)\n",
    "fback = back.astype(np.float32)\n",
    "while True:\n",
    "    ret, frame = cap.read()\n",
    "    if not ret:\n",
    "        print(\"frame is None\")\n",
    "        break\n",
    "    frame_gray = cv2.cvtColor(frame, cv2.COLOR_BGR2GRAY)\n",
    "    frame_gray = cv2.GaussianBlur(frame_gray, (0, 0), 1)\n",
    "    cv2.accumulateWeighted(frame_gray, fback, 0.01)\n",
    "    back = fback.astype(np.uint8)\n",
    "    diff = cv2.absdiff(frame_gray, back)\n",
    "    ret, mask = cv2.threshold(diff, 50, 255, cv2.THRESH_BINARY)\n",
    "    cnts, labels, stats, centroids = cv2.connectedComponentsWithStats(mask)\n",
    "    for i in range(1, cnts):\n",
    "        x, y, w, h, area = stats[i]\n",
    "        if area < 100:\n",
    "            continue\n",
    "        cv2.rectangle(frame, (x, y, w, h), (0, 0, 255), 2)\n",
    "\n",
    "    cv2.imshow(\"frame\",frame)\n",
    "    cv2.imshow(\"mask\",mask)\n",
    "    cv2.imshow(\"back\",back)\n",
    "    \n",
    "    if cv2.waitKey(20) == ord(\"q\"):\n",
    "        break\n",
    "\n",
    "cv2.destroyAllWindows()\n",
    "cap.release()"
   ]
  },
  {
   "cell_type": "markdown",
   "metadata": {},
   "source": [
    "### 3. Mixture of Gaussian"
   ]
  },
  {
   "cell_type": "code",
   "execution_count": null,
   "metadata": {},
   "outputs": [],
   "source": [
    "# createBackgroundSubtractorMOG2([, history, varThreshold, detectShadows) -> retval\n",
    "# history: 배경 업데이트 과거 길이, 기본 500\n",
    "# varThreshold: 새로 들어온 픽셀값이 배경 모델에 의해서 잘 표현되는지를 판단, 기본값 16\n",
    "# detectShadows: 그림자 검출 여부\n",
    "\n",
    "# cv2.createBackgroundSubtractor.apply(image, fgmask = None, learningRate=Nome) -> fgmask\n",
    "# image: 입력영상\n",
    "# fgmask: None\n",
    "# learningRate: 기본값 -1"
   ]
  },
  {
   "cell_type": "code",
   "execution_count": 44,
   "metadata": {},
   "outputs": [],
   "source": [
    "## Mixture of Gaussian\n",
    "cap = cv2.VideoCapture(\"./video/PETS2000.avi\")\n",
    "\n",
    "if not cap.isOpened():\n",
    "    print(\"Video load failed\")\n",
    "    sys.exit()\n",
    "\n",
    "bs = cv2.createBackgroundSubtractorMOG2()\n",
    "while True:\n",
    "    ret, frame = cap.read()\n",
    "    # frame = cv2.GaussianBlur(frame, (0, 0), 1)\n",
    "    # frame_m = cv2.medianBlur(frame, 3)\n",
    "    if not ret:\n",
    "        break\n",
    "\n",
    "    gray = cv2.cvtColor(frame, cv2.COLOR_BGR2GRAY)\n",
    "    fgmask = bs.apply(gray)\n",
    "    back = bs.getBackgroundImage()\n",
    "    cnts, labels, stats, centroids = cv2.connectedComponentsWithStats(fgmask)\n",
    "    for i in range(1, cnts):\n",
    "        x, y, w, h, area = stats[i]\n",
    "        if area <= 400:\n",
    "            continue\n",
    "        cv2.rectangle(frame, (x, y, w, h), (0, 0, 255), 2)\n",
    "\n",
    "    cv2.imshow(\"frame\", frame)\n",
    "    cv2.imshow(\"background\", back)\n",
    "    cv2.imshow(\"fgmask\", fgmask)\n",
    "    if cv2.waitKey(20) ==  27:\n",
    "        break\n",
    "\n",
    "cv2.destroyAllWindows()\n",
    "cap.release()\n"
   ]
  },
  {
   "cell_type": "markdown",
   "metadata": {},
   "source": [
    "### 4. 기하학적 모멘트 "
   ]
  },
  {
   "cell_type": "code",
   "execution_count": 5,
   "metadata": {},
   "outputs": [],
   "source": [
    "## 기하학적 모멘트 (Hu 불변 모멘트)\n",
    "obj = cv2.imread(\"./fig/spades.png\", cv2.IMREAD_GRAYSCALE)\n",
    "src = cv2.imread(\"./fig/symbols.png\", cv2.IMREAD_GRAYSCALE)\n",
    "_, obj_bin = cv2.threshold(obj, 0, 255, cv2.THRESH_OTSU | cv2.THRESH_BINARY_INV)\n",
    "obj_contours, _ = cv2.findContours(obj_bin, cv2.RETR_EXTERNAL, cv2.CHAIN_APPROX_NONE)\n",
    "obj_pts = obj_contours[0]\n",
    "_, src_bin = cv2.threshold(src, 0, 255, cv2.THRESH_OTSU | cv2.THRESH_BINARY_INV)\n",
    "src_contours, _ = cv2.findContours(src_bin, cv2.RETR_EXTERNAL, cv2.CHAIN_APPROX_NONE)\n",
    "dst = cv2.cvtColor(src, cv2.COLOR_GRAY2BGR)\n",
    "\n",
    "for pts in src_contours:\n",
    "    if cv2.contourArea(pts) < 1000:\n",
    "        continue\n",
    "    rc = cv2.boundingRect(pts)\n",
    "    cv2.rectangle(dst, rc, (255, 0, 0), 1)\n",
    "    dist = cv2.matchShapes(obj_pts, pts, cv2.CONTOURS_MATCH_I3, 0)\n",
    "    cv2.putText(dst, str(round(dist, 3)), (rc[0], rc[1] - 3), cv2.FONT_HERSHEY_COMPLEX, 0.8,\n",
    "                (255, 0, 0), 1, cv2.LINE_AA)\n",
    "    \n",
    "    if dist < 0.1:\n",
    "        cv2.rectangle(dst, rc, (0, 0, 255), 2)\n",
    "        cv2.putText(dst, str(round(dist, 3)), (rc[0], rc[1] - 3), cv2.FONT_HERSHEY_COMPLEX, 0.8,\n",
    "                (0, 0, 255), 2, cv2.LINE_AA)\n",
    "        \n",
    "cv2.imshow(\"obj\", obj)\n",
    "cv2.imshow(\"src\", src)\n",
    "cv2.imshow(\"dst\", dst)\n",
    "# cv2.imshow(\"obj_bin\", obj_bin)\n",
    "\n",
    "cv2.waitKey()\n",
    "cv2.destroyAllWindows()"
   ]
  }
 ],
 "metadata": {
  "kernelspec": {
   "display_name": "base",
   "language": "python",
   "name": "python3"
  },
  "language_info": {
   "codemirror_mode": {
    "name": "ipython",
    "version": 3
   },
   "file_extension": ".py",
   "mimetype": "text/x-python",
   "name": "python",
   "nbconvert_exporter": "python",
   "pygments_lexer": "ipython3",
   "version": "3.12.2"
  }
 },
 "nbformat": 4,
 "nbformat_minor": 2
}
