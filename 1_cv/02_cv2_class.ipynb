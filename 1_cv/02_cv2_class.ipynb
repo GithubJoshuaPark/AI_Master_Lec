{
 "cells": [
  {
   "cell_type": "code",
   "execution_count": 1,
   "metadata": {},
   "outputs": [
    {
     "name": "stdout",
     "output_type": "stream",
     "text": [
      "<class 'numpy.ndarray'>\n",
      "(480, 640)\n",
      "uint8\n",
      "height: 480, width: 640\n"
     ]
    },
    {
     "name": "stderr",
     "output_type": "stream",
     "text": [
      "2025-03-20 22:11:51.657 python[73075:8588739] +[IMKClient subclass]: chose IMKClient_Modern\n",
      "2025-03-20 22:11:51.657 python[73075:8588739] +[IMKInputSession subclass]: chose IMKInputSession_Modern\n"
     ]
    }
   ],
   "source": [
    "import numpy as np\n",
    "import cv2 # opencv-python which is an Open Source Computer Vision Library\n",
    "import sys\n",
    "import matplotlib.pyplot as plt # matplotlib.pyplot which provides a MATLAB-like plotting framework\n",
    "\n",
    "def close_window():\n",
    "    cv2.destroyAllWindows()  # Close the window\n",
    "    cv2.waitKey(1)\n",
    "    cv2.waitKey(1)\n",
    "    \n",
    "def ifNotExistExit(filename):\n",
    "    if not filename:\n",
    "        print('filename is None')\n",
    "        sys.exit()\n",
    "\n",
    "img = cv2.imread('./fig/dog.bmp', cv2.IMREAD_GRAYSCALE)\n",
    "\n",
    "if img is None:\n",
    "\tifNotExistExit(img)\n",
    "\n",
    "print(type(img)) # class numpy\n",
    "print(img.shape) # bgr (rgb x)\n",
    "print(img.dtype)\n",
    "\n",
    "h, w = img.shape\n",
    "print(f'height: {h}, width: {w}')\n",
    "\n",
    "cv2.namedWindow('img', cv2.WINDOW_AUTOSIZE) # create a window with the name 'img' and set the window size to fit the image\n",
    "\n",
    "cv2.imshow('img', img)\n",
    "while True:\n",
    "    if cv2.waitKey(1000) & 0xFF == ord('q'):  # Press 'q' to close the window\n",
    "        break\n",
    "\n",
    "cv2.waitKey() # wait for any key to close the window \n",
    "close_window()"
   ]
  },
  {
   "cell_type": "code",
   "execution_count": 6,
   "metadata": {},
   "outputs": [],
   "source": [
    "## url image usage\n",
    "from urllib import request\n",
    "\n",
    "url = 'https://www.google.com/images/branding/googlelogo/1x/googlelogo_color_272x92dp.png'\n",
    "req = request.urlopen(url)\n",
    "arr = np.asarray(bytearray(req.read()), dtype=np.uint8)\n",
    "img = cv2.imdecode(arr, cv2.IMREAD_COLOR)\n",
    "\n",
    "cv2.imwrite('./fig/google.png', img)\n",
    "\n",
    "cv2.imshow('img', img)\n",
    "cv2.waitKey()\n",
    "close_window()"
   ]
  },
  {
   "cell_type": "markdown",
   "metadata": {},
   "source": [
    "## Canvas"
   ]
  },
  {
   "cell_type": "code",
   "execution_count": 11,
   "metadata": {},
   "outputs": [],
   "source": [
    "img1 = np.ones((200, 200, 3), np.uint8) * 255   # whtie canvas\n",
    "img2 = np.zeros((200, 200, 3), np.uint8)        # black canvas\n",
    "\n",
    "cv2.imshow(\"White Canvas\", img1)\n",
    "cv2.imshow(\"Black Canvas\", img2)\n",
    "\n",
    "cv2.waitKey()\n",
    "close_window()"
   ]
  },
  {
   "cell_type": "markdown",
   "metadata": {},
   "source": [
    "### Draw Line"
   ]
  },
  {
   "cell_type": "code",
   "execution_count": 19,
   "metadata": {},
   "outputs": [],
   "source": [
    "## draw line on the image on the canvas\n",
    "\n",
    "white_bg_img = np.ones((600, 1200, 3), np.uint8) * 255 # white canvas\n",
    "\n",
    "# draw a red line on the white canvas\n",
    "cv2.line(white_bg_img, (50, 100), (300, 100), (0, 0, 255), 3, cv2.LINE_AA)\n",
    "# draw a green line on the white canvas\n",
    "cv2.line(white_bg_img, (300, 100), (250, 400), (0, 255, 0), 3, cv2.LINE_AA)\n",
    "\n",
    "# draw a blue arrowed line on the white canvas\n",
    "cv2.arrowedLine(white_bg_img, (250, 400), (400, 400), (255, 0, 0), 3, cv2.LINE_AA)\n",
    "\n",
    "# draw a yellow rectangle on the white canvas\n",
    "cv2.rectangle(white_bg_img, (500, 100), (800, 400), (0, 255, 255), 3, cv2.LINE_AA)\n",
    "\n",
    "# draw a cyan filled rectangle on the white canvas\n",
    "cv2.rectangle(white_bg_img, (900, 100), (1100, 400), (255, 255, 0), -1, cv2.LINE_AA)\n",
    "\n",
    "# draw a magenta circle on the white canvas\n",
    "cv2.circle(white_bg_img, (150, 500), 50, (255, 0, 255), 3, cv2.LINE_AA)\n",
    "\n",
    "# draw a green filled circle on the white canvas\n",
    "cv2.circle(white_bg_img, (350, 500), 50, (0, 255, 0), -1, cv2.LINE_AA)\n",
    "\n",
    "# draw a blue ellipse on the white canvas\n",
    "cv2.ellipse(white_bg_img, (600, 500), (100, 50), 0, 0, 360, (255, 0, 0), 3, cv2.LINE_AA)\n",
    "\n",
    "\n",
    "# show the white canvas\n",
    "cv2.imshow('white_bg_img', white_bg_img)\n",
    "\n",
    "\n",
    "\n",
    "while True:\n",
    "    if cv2.waitKey(1000) & 0xFF == ord('q'):  # Press 'q' to close the window\n",
    "        break\n",
    "\n",
    "cv2.waitKey()  # wait for any key to close the window\n",
    "close_window() # close the window\n"
   ]
  },
  {
   "cell_type": "markdown",
   "metadata": {},
   "source": [
    "## Alpha Channel which is the transparency of the color is not supported in this task."
   ]
  },
  {
   "cell_type": "code",
   "execution_count": 2,
   "metadata": {},
   "outputs": [
    {
     "name": "stderr",
     "output_type": "stream",
     "text": [
      "libpng warning: iCCP: known incorrect sRGB profile\n"
     ]
    }
   ],
   "source": [
    "## 알파채널\n",
    "\n",
    "img_hat = cv2.imread('./fig/hat_alpha.png', cv2.IMREAD_UNCHANGED) # IMREAD_UNCHANGED flag to read the image with the alpha channel\n",
    "\n",
    "# Check if the image was loaded successfully\n",
    "if img_hat is None:\n",
    "    print(\"Error: Image not found or unable to load.\")\n",
    "else:\n",
    "    # Extract the alpha channel and RGB channels\n",
    "    hat_mst = img_hat[:, :, 3]  # alpha channel\n",
    "    hat_rgb = img_hat[:, :, :3]  # rgb channel\n",
    "\n",
    "    # Display the images\n",
    "    cv2.imshow('img_hat', img_hat)\n",
    "    cv2.imshow('hat_mst', hat_mst)\n",
    "    cv2.imshow('hat_rgb', hat_rgb)\n",
    "    cv2.waitKey()\n",
    "    close_window()\n"
   ]
  },
  {
   "cell_type": "markdown",
   "metadata": {},
   "source": [
    "## 모든 이미지는 Histogram (히스토그램)을 이용하여 그림을 그린다.\n",
    "히스토그램에서 X축과 Y축의 의미는 다음과 같습니다: \n",
    "[ref 2503_KOSA_OpenCV_5d.pdf 13page](2503_KOSA_OpenCV_5d.pdf)\n",
    "\n",
    "축\t의미\n",
    "X축 (가로축)\t***픽셀의 밝기(명암) 값***을 나타냄. 일반적으로 0(완전한 검정)부터 255(완전한 흰색)까지의 그레이스케일 값을 가짐.\n",
    "Y축 (세로축)\t해당 밝기 값(명암 값)을 가진 **픽셀의 개수(빈도)**를 나타냄. 즉, 특정 밝기를 가지는 픽셀이 이미지 내에서 얼마나 많이 존재하는지를 보여줌.\n",
    "\n",
    "\n",
    "해석 방법\n",
    "히스토그램의 왼쪽 영역: 어두운 픽셀(검정에 가까운 부분)이 많을수록 높아짐.\n",
    "히스토그램의 오른쪽 영역: 밝은 픽셀(흰색에 가까운 부분)이 많을수록 높아짐.\n",
    "히스토그램이 균등하게 분포되어 있다면, 이미지의 **명암 대비(contrast)**가 좋은 상태임.\n",
    "특정 부분에 몰려 있다면, 이미지가 너무 어둡거나 밝은 상태일 수 있음.\n",
    "주어진 이미지에서는 왼쪽(어두운 영역)과 오른쪽(밝은 영역)에서 픽셀 수가 많이 나타나므로 명암 대비가 뚜렷한 이미지로 보입니다."
   ]
  },
  {
   "cell_type": "markdown",
   "metadata": {},
   "source": [
    "### 형상의 화소처리"
   ]
  },
  {
   "cell_type": "code",
   "execution_count": 9,
   "metadata": {},
   "outputs": [
    {
     "name": "stdout",
     "output_type": "stream",
     "text": [
      "(220, 220)\n",
      "uint8\n",
      "(220, 220)\n",
      "uint8\n"
     ]
    }
   ],
   "source": [
    "## 영상의 화소처리\n",
    "\n",
    "src = cv2.imread('./fig/lenna.png', cv2.IMREAD_GRAYSCALE) # default value is cv2.IMREAD_COLOR\n",
    "src2 = np.zeros_like(src) # create a black image with the same size as the source image\n",
    "\n",
    "print(src.shape) # (height, width, channel)\n",
    "print(src.dtype) # uint8\n",
    "\n",
    "print(src2.shape) # (height, width, channel)\n",
    "print(src2.dtype) # uint8\n",
    "\n",
    "#gray = cv2.cvtColor(src, cv2.COLOR_BGR2GRAY) # convert the color image to grayscale image\n",
    "\n",
    "dst = cv2.add(src, 50) # add 50 to all pixels, if the pixel value is greater than 255, it will be set to 255 (not over maximum value)\n",
    "dst_add_red = cv2.add(src, (50, 0, 0, 0)) # add 50 to the red channel only\n",
    "dst_add_green = cv2.add(src, (0, 50, 0, 0)) # add 50 to the green channel only\n",
    "dst_add_blue = cv2.add(src, (0, 0, 50, 0)) # add 50 to the blue channel only\n",
    "\n",
    "\n",
    "#dst2 = cv2.subtract(src, 50) # subtract 50 from all pixels, if the pixel value is less than 0, it will be set to 0 (not below minimum value)\n",
    "\n",
    "cv2.circle(src2, (110,110), 80, 200, -1) # draw a filled circle on the black image\n",
    "cv2.circle(src2, (110,110), 40, 50, -1) # draw a filled circle on the black image\n",
    "\n",
    "dst1 = cv2.add(src, src2) # add two images\n",
    "dst2 = cv2.addWeighted(src, 0.5, src2, 0.5, 0) # add two images with the same weight\n",
    "dst3 = cv2.subtract(src, src2) # subtract two images\n",
    "dst4 = cv2.absdiff(src, src2) # get the absolute difference between two images\n",
    "dst5 = cv2.bitwise_and(src, src2) # bitwise AND operation between two images\n",
    "dst6 = cv2.bitwise_or(src, src2) # bitwise OR operation between two images\n",
    "dst7 = cv2.bitwise_xor(src, src2) # bitwise XOR operation between two images\n",
    "dst8 = cv2.bitwise_not(src) # bitwise NOT operation on the source image\n",
    "dst9 = cv2.divide(src, src2) # divide two images\n",
    "dst10 = cv2.multiply(src, src2) # multiply two images\n",
    "\n",
    "cv2.imshow('add', dst1)\n",
    "cv2.imshow('addWeighted', dst2)\n",
    "cv2.imshow('subtract', dst3)\n",
    "cv2.imshow('absdiff', dst4)\n",
    "cv2.imshow('bitwise_and', dst5)\n",
    "cv2.imshow('bitwise_or', dst6)\n",
    "cv2.imshow('bitwise_xor', dst7)\n",
    "cv2.imshow('bitwise_not', dst8)\n",
    "cv2.imshow('divide', dst9)\n",
    "cv2.imshow('multiply', dst10)\n",
    "\n",
    "cv2.imshow('src', src)\n",
    "cv2.imshow('dst', dst)\n",
    "\n",
    "cv2.imshow('dst_add_red', dst_add_red)\n",
    "cv2.imshow('dst_add_green', dst_add_green)\n",
    "cv2.imshow('dst_add_blue', dst_add_blue)\n",
    "\n",
    "cv2.imshow('src2', src2)\n",
    "\n",
    "#cv2.imshow('dst2', dst2)\n",
    "\n",
    "#cv2.imshow('gray', gray)\n",
    "\n",
    "cv2.waitKey()\n",
    "close_window()\n"
   ]
  },
  {
   "cell_type": "code",
   "execution_count": 13,
   "metadata": {},
   "outputs": [],
   "source": [
    "src = cv2.imread(\"./fig/rose.jpg\", cv2.IMREAD_COLOR)\n",
    "background = np.ones_like(src)*255\n",
    "\n",
    "weight = np.arange(0, 1, 0.01)\n",
    "# print(weight)\n",
    "\n",
    "for i in weight:\n",
    "    dst = cv2.addWeighted(src, i, background, 1-i, 0.0)\n",
    "    cv2.imshow('dst', dst)\n",
    "\n",
    "    if cv2.waitKey(100) == 27:\n",
    "        break\n",
    "\n",
    "cv2.waitKey()\n",
    "close_window()"
   ]
  },
  {
   "cell_type": "markdown",
   "metadata": {},
   "source": [
    "## Color channel (채널)을 분리 및 결합하여 이미지를 처리한다.\n",
    "## 색상을 다루는 방법은 다음과 같습니다:\n",
    "- **색상을 다루는 방법**\n",
    "  - **색상을 다루는 방법은 이미지의 색상을 분리하거나 결합하는 방법을 의미함.**\n",
    "  - **색상을 분리하면 이미지의 색상을 각각의 채널로 분리하여 처리할 수 있음.**\n",
    "  - **색상을 결합하면 이미지의 색상을 각각의 채널로부터 결합하여 원본 이미지로 복원할 수 있음.**\n",
    "  - **색상을 분리하거나 결합하는 방법은 OpenCV의 split() 및 merge() 함수를 사용하여 처리할 수 있음.**"
   ]
  },
  {
   "cell_type": "code",
   "execution_count": 17,
   "metadata": {},
   "outputs": [],
   "source": [
    "### \n",
    "src = cv2.imread(\"./fig/field.bmp\")\n",
    "\n",
    "if src is None:\n",
    "    print('image read failed')\n",
    "    sys.exit()\n",
    "\n",
    "b, g, r = cv2.split(src)   # split the image into three channels\n",
    "dst = cv2.merge((r, g, b)) # change the order of the channels\n",
    "\n",
    "cv2.namedWindow(\"rose\", cv2.WINDOW_NORMAL)\n",
    "cv2.imshow(\"rose\", src)\n",
    "cv2.imshow(\"rgb\", dst)\n",
    "cv2.imshow(\"b\", b)\n",
    "cv2.imshow(\"g\", g)\n",
    "cv2.imshow(\"r\", r)\n",
    "\n",
    "\n",
    "cv2.waitKey()\n",
    "close_window()"
   ]
  },
  {
   "cell_type": "markdown",
   "metadata": {},
   "source": [
    "## 영상 히스토그램 처리\n",
    "- **히스토그램 평활화**\n",
    "  - **히스토그램 평활화는 이미지의 명암 대비를 향상시키는 방법을 의미함.**\n",
    "  - **히스토그램 평활화는 이미지의 히스토그램을 균일하게 분포시켜 명암 대비를 향상시킴.**\n",
    "  - **히스토그램 평활화는 OpenCV의 equalizeHist() 함수를 사용하여 처리할 수 있음.**"
   ]
  },
  {
   "cell_type": "code",
   "execution_count": 23,
   "metadata": {},
   "outputs": [
    {
     "name": "stdout",
     "output_type": "stream",
     "text": [
      "hist_b: (256, 1), hist_g: (256, 1), hist_r: (256, 1)\n",
      "[[  0.   0.   0.   0.   0.   0.   0.   0.   0.   0.   0.   0.   0.   0.\n",
      "    0.   0.   0.   0.   0.   0.   0.   0.   0.   0.   0.   0.   0.   0.\n",
      "    0.   0.   0.   0.   0.   0.   0.   0.   0.   0.   0.   0.   0.   1.\n",
      "    1.   1.   2.   0.   3.   6.   9.  13.  28.  43.  55.  80.  96. 137.\n",
      "  185. 232. 300. 341. 426. 472. 517. 619. 609. 664. 606. 599. 525. 510.\n",
      "  459. 475. 497. 510. 560. 581. 631. 639. 621. 578. 585. 552. 533. 512.\n",
      "  504. 509. 518. 508. 557. 492. 540. 581. 521. 592. 575. 634. 601. 553.\n",
      "  563. 519. 526. 514. 462. 450. 471. 460. 509. 486. 521. 538. 503. 518.\n",
      "  514. 460. 484. 503. 486. 493. 514. 536. 610. 611. 626. 614. 610. 533.\n",
      "  510. 427. 397. 370. 321. 285. 215. 189. 197. 151. 165. 163. 169. 154.\n",
      "  155. 155. 163. 142. 152. 148. 157. 156. 162. 138. 150. 166. 144. 172.\n",
      "  159. 197. 201. 209. 171. 170. 170. 167. 186. 160. 163. 155. 149. 162.\n",
      "  128. 145. 132. 126. 148. 136. 114. 107.  93.  97.  85.  96.  98.  88.\n",
      "  128. 111. 122. 103. 100.  98.  92.  89.  79.  65.  54.  42.  36.  26.\n",
      "   29.  19.  28.  25.  23.  16.  14.  13.  15.  13.  10.   3.   9.   5.\n",
      "    8.   4.   1.   0.   2.   1.   0.   0.   0.   0.   0.   0.   0.   0.\n",
      "    0.   0.   0.   0.   0.   0.   0.   0.   0.   0.   0.   0.   0.   0.\n",
      "    0.   0.   0.   0.   0.   0.   0.   0.   0.   0.   0.   0.   0.   0.\n",
      "    0.   0.   0.   0.]]\n",
      "[[ 15.   5.  14.   8.  23.  27.  29.  33.  61.  65.  72.  99. 108. 129.\n",
      "  161. 166. 203. 229. 336. 315. 371. 394. 405. 426. 364. 402. 387. 379.\n",
      "  383. 320. 280. 266. 291. 240. 202. 236. 198. 192. 182. 174. 210. 185.\n",
      "  204. 208. 200. 189. 194. 187. 160. 205. 168. 195. 176. 205. 195. 195.\n",
      "  180. 204. 211. 233. 257. 308. 323. 321. 371. 422. 401. 368. 366. 354.\n",
      "  332. 323. 289. 278. 257. 282. 252. 275. 285. 261. 268. 248. 254. 284.\n",
      "  263. 297. 269. 287. 318. 281. 350. 356. 387. 415. 397. 404. 388. 343.\n",
      "  397. 407. 315. 317. 330. 312. 331. 253. 280. 268. 270. 293. 291. 298.\n",
      "  345. 292. 324. 316. 274. 289. 301. 297. 291. 293. 302. 319. 339. 346.\n",
      "  339. 356. 346. 414. 358. 372. 391. 357. 400. 392. 382. 365. 350. 320.\n",
      "  291. 253. 234. 224. 225. 215. 193. 177. 185. 188. 181. 194. 166. 148.\n",
      "  154. 172. 165. 171. 149. 152. 103. 119. 126. 110.  98.  89.  88.  87.\n",
      "   88.  89.  98.  82. 101. 115. 100.  93.  69.  88. 114. 123. 122. 117.\n",
      "  126. 131. 138. 155. 143. 149. 132. 127. 112. 124. 116. 130. 120. 128.\n",
      "  162. 125. 156. 133. 153. 162. 142. 156. 157. 141. 130. 116.  91.  92.\n",
      "   71.  63.  60.  49.  50.  33.  30.  32.  24.  16.  23.  14.   7.  16.\n",
      "    7.   5.   7.   8.   6.   3.   2.   2.   4.   0.   0.   2.   1.   0.\n",
      "    1.   0.   0.   1.   0.   0.   0.   0.   0.   0.   0.   0.   0.   0.\n",
      "    0.   0.   0.   0.]]\n",
      "[[  0.   0.   0.   0.   0.   0.   0.   0.   0.   0.   0.   0.   0.   0.\n",
      "    0.   0.   0.   0.   0.   0.   0.   0.   0.   0.   0.   0.   0.   0.\n",
      "    0.   0.   0.   0.   0.   0.   0.   0.   0.   0.   0.   0.   0.   0.\n",
      "    0.   0.   0.   0.   0.   0.   0.   0.   0.   0.   1.   1.   0.   2.\n",
      "    0.   1.   3.   3.   3.   3.   0.   4.   7.   9.  12.  14.  16.  14.\n",
      "   28.  31.  29.  36.  44.  55.  53.  67.  64.  89. 101. 108. 147. 135.\n",
      "  175. 180. 225. 205. 299. 305. 279. 299. 294. 283. 279. 309. 287. 277.\n",
      "  267. 253. 279. 284. 255. 242. 228. 206. 197. 202. 167. 189. 158. 155.\n",
      "  145. 133. 125. 126. 114. 128. 120.  91. 124. 124. 108. 124. 120. 118.\n",
      "  122. 123. 118. 121. 122. 122. 143. 123. 113. 157. 138. 121. 131. 122.\n",
      "  143. 142. 123. 145. 139. 133. 164. 146. 153. 154. 132. 132. 139. 159.\n",
      "  157. 143. 154. 183. 137. 152. 191. 164. 166. 133. 180. 151. 156. 205.\n",
      "  196. 224. 228. 243. 286. 318. 344. 364. 350. 358. 335. 298. 252. 269.\n",
      "  261. 222. 250. 213. 270. 288. 290. 319. 330. 341. 358. 362. 396. 376.\n",
      "  331. 359. 353. 332. 363. 434. 461. 477. 557. 617. 608. 612. 641. 630.\n",
      "  621. 535. 505. 464. 468. 449. 455. 542. 553. 651. 731. 765. 790. 821.\n",
      "  765. 719. 557. 482. 474. 414. 417. 351. 398. 335. 444. 442. 428. 477.\n",
      "  438. 367. 302. 271. 215. 135. 131. 147. 137. 106.  74.  87.  61.  46.\n",
      "   33.  26.  16.   0.]]\n"
     ]
    },
    {
     "data": {
      "image/png": "[encoded data removed]",
      "text/plain": [
       "<Figure size 640x480 with 1 Axes>"
      ]
     },
     "metadata": {},
     "output_type": "display_data"
    }
   ],
   "source": [
    "#\n",
    "src = cv2.imread(\"./fig/lenna.png\", cv2.IMREAD_COLOR)\n",
    "\n",
    "if src is None:\n",
    "    print(\"Image read failed\")\n",
    "    sys.exit()\n",
    "\n",
    "hist_b = cv2.calcHist([src], [0], None, [256], [0, 256]) # calculate the histogram of the blue channel\n",
    "hist_g = cv2.calcHist([src], [1], None, [256], [0, 255]) # calculate the histogram of the green channel\n",
    "hist_r = cv2.calcHist([src], [2], None, [256], [0, 255]) # calculate the histogram of the red channel\n",
    "\n",
    "# print the histogram values\n",
    "print(f'hist_b: {hist_b.shape}, hist_g: {hist_g.shape}, hist_r: {hist_r.shape}') # (256, 1)\n",
    "print(hist_b.T) # (1, 256), it means the histogram is a row vector\n",
    "print(hist_g.T) # (1, 256)\n",
    "print(hist_r.T) # (1, 256)\n",
    "\n",
    "\n",
    "# colors = ['b', 'g', 'r']\n",
    "# bgr_planes = cv2.split(src)\n",
    "\n",
    "# for (p, c) in zip(bgr_planes, colors):\n",
    "#     hist = cv2.calcHist([p], [0], None, [256], [0, 256])\n",
    "#     plt.plot(hist, color=c)\n",
    "\n",
    "# plt.plot(hist_b, color = \"b\")\n",
    "# plt.plot(hist_g, color = \"g\")\n",
    "# plt.plot(hist_r, color = \"r\")\n",
    "# plt.show()\n",
    "\n",
    "plt.bar(np.arange(len(hist_b)), hist_b[:,0], color = \"b\", label = 'b channel', alpha = 0.5) \n",
    "plt.bar(np.arange(len(hist_g)), hist_g[:,0], color = \"g\", label = 'g channel', alpha = 0.5)\n",
    "plt.bar(np.arange(len(hist_r)), hist_r[:,0], color = \"r\", label = 'r channel', alpha = 0.5)\n",
    "plt.legend(loc='upper right')\n",
    "plt.show()\n",
    "\n",
    "cv2.imshow(\"lenna\", src)\n",
    "cv2.waitKey()\n",
    "close_window()"
   ]
  },
  {
   "cell_type": "markdown",
   "metadata": {},
   "source": [
    "## Histogram Equalization\n",
    "- **히스토그램 평활화는 이미지의 명암 대비를 향상시키는 방법을 의미함.**\n",
    "- **히스토그램 평활화는 이미지의 히스토그램을 균일하게 분포시켜 명암 대비를 향상시킴.**\n",
    "- **히스토그램 평활화는 OpenCV의 equalizeHist() 함수를 사용하여 처리할 수 있음.**"
   ]
  },
  {
   "cell_type": "code",
   "execution_count": 30,
   "metadata": {},
   "outputs": [
    {
     "data": {
      "image/png": "[encoded data removed]",
      "text/plain": [
       "<Figure size 640x480 with 1 Axes>"
      ]
     },
     "metadata": {},
     "output_type": "display_data"
    }
   ],
   "source": [
    "src = cv2.imread('fig/manjang.jpg')\n",
    "if src is None:\n",
    "    print('Image load failed!')\n",
    "    sys.exit()\n",
    "\n",
    "# minMaxLoc(src[, mask]) -> minVal, maxVal, minLoc, maxLoc\n",
    "# smin, smax, _, _ = cv2.minMaxLoc(src)\n",
    "\n",
    "dst_norm = cv2.normalize(src, None, 0, 255, cv2.NORM_MINMAX, -1) # normalize the image to 0-255, -1 means the same type as the source image\n",
    "# dst = np.clip(255*(src-smin)/(smax-smin) + 0, 0, 255).astype(np.uint8)\n",
    "\n",
    "cv2.imshow('src', src)\n",
    "cv2.imshow('dst_norm', dst_norm)\n",
    "\n",
    "# src 를 plt.bar로 표현\n",
    "# dst_norm 를 plt.bar로 표현\n",
    "hist = cv2.calcHist([src], [0], None, [256], [0, 256])\n",
    "dst_norm_hist = cv2.calcHist([dst_norm], [0], None, [256], [0, 256])\n",
    "\n",
    "plt.bar(np.arange(len(hist)), hist[:,0], color = \"b\", label = 'src', alpha = 0.5)\n",
    "plt.bar(np.arange(len(dst_norm_hist)), dst_norm_hist[:,0], color = \"r\", label = 'dst_norm', alpha = 0.5)\n",
    "plt.legend(loc='upper left')\n",
    "plt.show()\n",
    "\n",
    "cv2.waitKey()\n",
    "close_window()"
   ]
  },
  {
   "cell_type": "markdown",
   "metadata": {},
   "source": [
    "## Directory 내 영상읽기\n",
    "- **특정 디렉토리 내의 이미지 파일을 읽어들여 처리하는 방법을 의미함.**\n",
    "- **특정 디렉토리 내의 이미지 파일을 읽어들이기 위해서는 OpenCV의 imread() 함수를 사용하여 처리할 수 있음.**"
   ]
  },
  {
   "cell_type": "code",
   "execution_count": null,
   "metadata": {},
   "outputs": [
    {
     "name": "stdout",
     "output_type": "stream",
     "text": [
      "images folder already exists\n",
      "Absolute path of image folder: /Users/joshuapark/Desktop/AI_Master_Lec/1_cv/fig/images\n",
      "list_files: ['boat_mountains_lake_135258_1920x1080.jpg', 'forest_fog_trees_128751_1920x1080.jpg', 'pier_dock_sea_dusk_shore_118549_1920x1080.jpg', 'autumn_forest_park_128379_1920x1080.jpg', 'road_marking_evening_clouds_horizon_120298_1920x1080.jpg']\n",
      "image_files: ['boat_mountains_lake_135258_1920x1080.jpg', 'forest_fog_trees_128751_1920x1080.jpg', 'pier_dock_sea_dusk_shore_118549_1920x1080.jpg', 'autumn_forest_park_128379_1920x1080.jpg', 'road_marking_evening_clouds_horizon_120298_1920x1080.jpg']\n"
     ]
    },
    {
     "ename": "",
     "evalue": "",
     "output_type": "error",
     "traceback": [
      "\u001b[1;31mThe Kernel crashed while executing code in the current cell or a previous cell. \n",
      "\u001b[1;31mPlease review the code in the cell(s) to identify a possible cause of the failure. \n",
      "\u001b[1;31mClick <a href='https://aka.ms/vscodeJupyterKernelCrash'>here</a> for more info. \n",
      "\u001b[1;31mView Jupyter <a href='command:jupyter.viewOutput'>log</a> for further details."
     ]
    }
   ],
   "source": [
    "import os\n",
    "import cv2\n",
    "\n",
    "image_folder = './fig/images'\n",
    "\n",
    "# Create the directory if it does not exist\n",
    "if not os.path.exists(image_folder):\n",
    "    os.makedirs(image_folder)\n",
    "else:\n",
    "    print('images folder already exists')\n",
    "\n",
    "# Debug: Print the absolute path of the image folder\n",
    "print(f'Absolute path of image folder: {os.path.abspath(image_folder)}')\n",
    "\n",
    "# Debug: List all files in the directory\n",
    "list_files = os.listdir(image_folder)\n",
    "print(f'list_files: {list_files}')\n",
    "\n",
    "# List the image files in the directory\n",
    "image_files = [f for f in os.listdir(image_folder) if f.endswith(('.png', '.jpg', '.jpeg', '.bmp'))]\n",
    "print(f'image_files: {image_files}')\n",
    "\n",
    "cv2.namedWindow('Scene', cv2.WINDOW_NORMAL)\n",
    "cv2.setWindowProperty('Scene', cv2.WND_PROP_FULLSCREEN, cv2.WINDOW_FULLSCREEN)\n",
    "\n",
    "if image_files:\n",
    "    idx = 0\n",
    "    while True:\n",
    "        img = cv2.imread(os.path.join(image_folder, image_files[idx]))\n",
    "        cv2.imshow('Scene', img)\n",
    "\n",
    "        if cv2.waitKey(1000) & 0xFF == 27: # Press 'ESC' to close the window\n",
    "            break\n",
    "\n",
    "        idx += 1\n",
    "\n",
    "        if idx >= len(image_files):\n",
    "            idx = 0\n",
    "\n",
    "    cv2.waitKey()  # wait for any key, 'q' to close the window\n",
    "    close_window() # close the window\n",
    "else:\n",
    "    print(\"No image files found in the directory.\")"
   ]
  }
 ],
 "metadata": {
  "kernelspec": {
   "display_name": "base",
   "language": "python",
   "name": "python3"
  },
  "language_info": {
   "codemirror_mode": {
    "name": "ipython",
    "version": 3
   },
   "file_extension": ".py",
   "mimetype": "text/x-python",
   "name": "python",
   "nbconvert_exporter": "python",
   "pygments_lexer": "ipython3",
   "version": "3.12.2"
  }
 },
 "nbformat": 4,
 "nbformat_minor": 2
}
