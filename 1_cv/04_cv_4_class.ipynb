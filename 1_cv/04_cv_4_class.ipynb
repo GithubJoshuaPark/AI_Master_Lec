{
 "cells": [
  {
   "cell_type": "code",
   "execution_count": 1,
   "metadata": {},
   "outputs": [],
   "source": [
    "# \n",
    "import numpy as np\n",
    "import cv2 # opencv-python which is an Open Source Computer Vision Library\n",
    "import sys\n",
    "import os\n",
    "import matplotlib.pyplot as plt # matplotlib.pyplot which provides a MATLAB-like plotting framework\n",
    "\n",
    "def close_window():\n",
    "    cv2.destroyAllWindows()  # Close the window\n",
    "    cv2.waitKey(1)\n",
    "    cv2.waitKey(1)\n",
    "    \n",
    "def ifNotExistExit(filename):\n",
    "    if not filename:\n",
    "        print('filename is None')\n",
    "        sys.exit()"
   ]
  },
  {
   "cell_type": "code",
   "execution_count": 13,
   "metadata": {},
   "outputs": [
    {
     "name": "stdout",
     "output_type": "stream",
     "text": [
      "Usage: python3 /opt/anaconda3/lib/python3.12/site-packages/ipykernel_launcher.py <input_file> <output_file>\n"
     ]
    },
    {
     "ename": "SystemExit",
     "evalue": "",
     "output_type": "error",
     "traceback": [
      "An exception has occurred, use %tb to see the full traceback.\n",
      "\u001b[0;31mSystemExit\u001b[0m\n"
     ]
    }
   ],
   "source": [
    "## GAUSSIAN BLUR\n",
    "def gaussian_blur(img, kernel_size):\n",
    "    return cv2.GaussianBlur(img, (kernel_size, kernel_size), 0)\n",
    "\n",
    "## CANNY EDGE DETECTION\n",
    "def canny(img, low_threshold, high_threshold):\n",
    "    return cv2.Canny(img, low_threshold, high_threshold)\n",
    "\n",
    "## REGION OF INTEREST\n",
    "def region_of_interest(img, vertices):\n",
    "    mask = np.zeros_like(img)\n",
    "    cv2.fillPoly(mask, vertices, 255)\n",
    "    return cv2.bitwise_and(img, mask)\n",
    "\n",
    "## HOUGH LINES\n",
    "def hough_lines(img, rho, theta, threshold, min_line_len, max_line_gap):\n",
    "    return cv2.HoughLinesP(img, rho, theta, threshold, np.array([]), minLineLength=min_line_len, maxLineGap=max_line_gap)\n",
    "\n",
    "## DRAW LINES\n",
    "def draw_lines(img, lines, color=[255, 0, 0], thickness=2):\n",
    "    if lines is None:\n",
    "        return\n",
    "    for line in lines:\n",
    "        for x1, y1, x2, y2 in line:\n",
    "            cv2.line(img, (x1, y1), (x2, y2), color, thickness)\n",
    "            \n",
    "## AVERAGE SLOPE\n",
    "def average_slope(lines):\n",
    "    if lines is None:\n",
    "        return [], []\n",
    "    left_lines = []\n",
    "    right_lines = []\n",
    "    for line in lines:\n",
    "        for x1, y1, x2, y2 in line:\n",
    "            if x1 == x2:\n",
    "                continue\n",
    "            slope = (y2 - y1) / (x2 - x1)\n",
    "            if slope < 0:\n",
    "                left_lines.append(line)\n",
    "            else:\n",
    "                right_lines.append(line)\n",
    "    return left_lines, right_lines\n",
    "\n",
    "## AVERAGE LINE\n",
    "def average_line(lines):\n",
    "    x = []\n",
    "    y = []\n",
    "    for line in lines:\n",
    "        for x1, y1, x2, y2 in line:\n",
    "            x += [x1, x2]\n",
    "            y += [y1, y2]\n",
    "    if len(x) == 0:\n",
    "        return None\n",
    "    return np.polyfit(x, y, 1)\n",
    "\n",
    "## DRAW LINE\n",
    "def draw_line(img, line, color=[255, 0, 0], thickness=2):\n",
    "    if line is None:\n",
    "        return\n",
    "    x1 = int((img.shape[0] - line[1]) / line[0])\n",
    "    x2 = int((img.shape[0] * 0.6 - line[1]) / line[0])\n",
    "    cv2.line(img, (x1, img.shape[0]), (x2, int(img.shape[0] * 0.6)), color, thickness)\n",
    "    \n",
    "## PROCESS IMAGE\n",
    "def process_image(image):\n",
    "    try:\n",
    "        gray = cv2.cvtColor(image, cv2.COLOR_RGB2GRAY)\n",
    "        blur = gaussian_blur(gray, 5)\n",
    "        edge = canny(blur, 50, 150)\n",
    "        imshape = image.shape\n",
    "        vertices = np.array([[(0, imshape[0]), (imshape[1] * 0.45, imshape[0] * 0.6), (imshape[1] * 0.55, imshape[0] * 0.6), (imshape[1], imshape[0])]], dtype=np.int32)\n",
    "        roi = region_of_interest(edge, vertices)\n",
    "        lines = hough_lines(roi, 1, np.pi / 180, 30, 10, 20)\n",
    "        left_lines, right_lines = average_slope(lines)\n",
    "        left_line = average_line(left_lines)\n",
    "        right_line = average_line(right_lines)\n",
    "        result = np.zeros_like(image)\n",
    "        draw_line(result, left_line)\n",
    "        draw_line(result, right_line)\n",
    "        return result\n",
    "    except Exception as e:\n",
    "        print(f\"Error in process_image: {e}\")\n",
    "        return image  # Return original image on error\n",
    "\n",
    "## PROCESS VIDEO\n",
    "def process_video(input_file, output_file):\n",
    "    cap = cv2.VideoCapture(input_file)\n",
    "    fourcc = cv2.VideoWriter_fourcc(*'XVID')\n",
    "    out = cv2.VideoWriter(output_file, fourcc, 20.0, (640, 360))\n",
    "    while cap.isOpened():\n",
    "        ret, frame = cap.read()\n",
    "        if not ret:\n",
    "            break\n",
    "        result = process_image(frame)\n",
    "        out.write(result)\n",
    "    cap.release()\n",
    "    out.release()\n",
    "    \n",
    "## MAIN\n",
    "def main():\n",
    "    # Check if running in Jupyter notebook (sys.argv[0] will be empty string)\n",
    "    if len(sys.argv) <= 1:\n",
    "        # Running in Jupyter, use direct file path\n",
    "        print('Running in Jupyter notebook mode')\n",
    "        \n",
    "        # Try to find the image in the current directory first\n",
    "        img_path = \"./fig/blue_eyes.png\"\n",
    "        if not os.path.exists(img_path):\n",
    "            # Try a relative path from the notebook location\n",
    "            img_path = \"../fig/blue_eyes.png\"\n",
    "            if not os.path.exists(img_path):\n",
    "                print(f'Image not found at {img_path}')\n",
    "                print(f'Current working directory: {os.getcwd()}')\n",
    "                return\n",
    "        \n",
    "        src = cv2.imread(img_path)\n",
    "        \n",
    "        if src is None:\n",
    "            print(f'Image load failed from {img_path}!')\n",
    "            return\n",
    "        \n",
    "        print(f'Successfully loaded image from {img_path}')\n",
    "        dst = process_image(src)\n",
    "        \n",
    "        cv2.imshow('src', src)\n",
    "        cv2.imshow('dst', dst)\n",
    "        cv2.waitKey(0)\n",
    "        close_window()\n",
    "    else:\n",
    "        # Original command-line behavior\n",
    "        if len(sys.argv) < 3:\n",
    "            print('Usage: python3 {} <input_file> <output_file>'.format(sys.argv[0]))\n",
    "            sys.exit()\n",
    "        input_file = sys.argv[1]\n",
    "        output_file = sys.argv[2]\n",
    "        if not os.path.exists(input_file):\n",
    "            print('File not found: {}'.format(input_file))\n",
    "            sys.exit()\n",
    "        process_video(input_file, output_file)\n",
    "        print('Done')\n",
    "        \n",
    "# Run the main function\n",
    "main()"
   ]
  },
  {
   "cell_type": "code",
   "execution_count": null,
   "metadata": {},
   "outputs": [
    {
     "name": "stdout",
     "output_type": "stream",
     "text": [
      "dx kernel: [[-1.  0.  1.]\n",
      " [-2.  0.  2.]\n",
      " [-1.  0.  1.]]\n",
      "dy kernel: [[-1. -2. -1.]\n",
      " [ 0.  0.  0.]\n",
      " [ 1.  2.  1.]]\n"
     ]
    },
    {
     "name": "stderr",
     "output_type": "stream",
     "text": [
      "2025-03-24 20:05:27.055 python[92650:11407762] +[IMKClient subclass]: chose IMKClient_Modern\n",
      "2025-03-24 20:05:27.055 python[92650:11407762] +[IMKInputSession subclass]: chose IMKInputSession_Modern\n"
     ]
    }
   ],
   "source": [
    "# Usage Sobel edge detection\n",
    "src = cv2.imread('./fig/plates.png', cv2.IMREAD_GRAYSCALE)\n",
    "\n",
    "# dx kernel\n",
    "dx_kernel = np.array([[-1, 0, 1], [-2, 0, 2], [-1, 0, 1]], dtype=np.float32)\n",
    "print('dx kernel:', dx_kernel)\n",
    "gx = cv2.filter2D(src, -1, dx_kernel) # cv2.CV_32F\n",
    "\n",
    "# dy kernel\n",
    "print('dy kernel:', dx_kernel.T)\n",
    "gy = cv2.filter2D(src, -1, dx_kernel.T) # cv2.CV_32F\n",
    "\n",
    "\n",
    "cv2.imshow('src', src)\n",
    "cv2.imshow('gx', gx)\n",
    "cv2.imshow('gy', gy)\n",
    "\n",
    "cv2.waitKey(0)\n",
    "close_window()\n"
   ]
  },
  {
   "cell_type": "code",
   "execution_count": null,
   "metadata": {},
   "outputs": [],
   "source": [
    "# Usage Sobel edge detection\n",
    "src = cv2.imread('./fig/son.jpg', cv2.IMREAD_GRAYSCALE)\n",
    "\n",
    "if src is None:\n",
    "\tprint('Error: Image not found or unable to load.')\n",
    "else:\n",
    "\tdx = cv2.Sobel(src, cv2.CV_32F, 1, 0)\n",
    "\tdy = cv2.Sobel(src, cv2.CV_32F, 0, 1)\n",
    "\tmag = cv2.magnitude(dx, dy) # cv2.CV_32F\n",
    "\tmag = np.clip(mag, 0, 255).astype(np.uint8) # cv2.CV_8U\n",
    "\tdst = cv2.convertScaleAbs(mag) # cv2.CV_8U\n",
    "\tret, dst = cv2.threshold(dst, 150, 255, cv2.THRESH_BINARY) # cv2.THRESH_BINARY_INV\n",
    "\t\n",
    "\tcv2.imshow('src', src)\n",
    "\tcv2.imshow('mag', mag)\n",
    "\tcv2.imshow('dst', dst)\n",
    " \n",
    "\tcv2.waitKey()\n",
    "\tclose_window()"
   ]
  },
  {
   "cell_type": "code",
   "execution_count": 16,
   "metadata": {},
   "outputs": [],
   "source": [
    "## Canny edge detection\n",
    "src = cv2.imread('./fig/son.jpg', cv2.IMREAD_GRAYSCALE)\n",
    "if src is None:\n",
    "    print('Image load failed!')\n",
    "    sys.exit()\n",
    "    \n",
    "dst_canny = cv2.Canny(src, 150, 180) # cv2.CV_8U\n",
    "\n",
    "cv2.imshow('src', src)\n",
    "cv2.imshow('dst', dst)\n",
    "cv2.imshow('dst_canny', dst_canny)\n",
    "cv2.waitKey()\n",
    "close_window()"
   ]
  },
  {
   "cell_type": "code",
   "execution_count": 31,
   "metadata": {},
   "outputs": [
    {
     "name": "stdout",
     "output_type": "stream",
     "text": [
      "lines.shape: (109, 1, 4)\n"
     ]
    }
   ],
   "source": [
    "## Hough line detection\n",
    "src = cv2.imread('./fig/checkerboard.png', cv2.IMREAD_GRAYSCALE)\n",
    "if src is None:\n",
    "    print('Image load failed!')\n",
    "    sys.exit()\n",
    "\n",
    "edges = cv2.Canny(src, 50, 150)\n",
    "lines = cv2.HoughLinesP(edges, 1, np.pi / 360, 60, minLineLength=10, maxLineGap=20) # cv2.CV_32F\n",
    "print('lines.shape:', lines.shape) # (n, 1, 2)\n",
    "\n",
    "dst = cv2.cvtColor(edges, cv2.COLOR_GRAY2BGR)\n",
    "\n",
    "for i in range(lines.shape[0]):\n",
    "    pt1 = (lines[i][0][0], lines[i][0][1])\n",
    "    pt2 = (lines[i][0][2], lines[i][0][3])\n",
    "    cv2.line(dst, pt1, pt2, (0, 0, 255), 1, cv2.LINE_AA)\n",
    "    cv2.putText(dst, str(i), pt1, cv2.FONT_HERSHEY_SIMPLEX, 0.3, (255, 0, 0), 1, cv2.LINE_AA)\n",
    "\n",
    "cv2.imshow('src', src)\n",
    "cv2.imshow('edges', edges)\n",
    "cv2.imshow(\"dst\", dst)\n",
    "\n",
    "cv2.waitKey()\n",
    "close_window()"
   ]
  },
  {
   "cell_type": "code",
   "execution_count": 39,
   "metadata": {},
   "outputs": [
    {
     "name": "stdout",
     "output_type": "stream",
     "text": [
      "circles.shape: (1, 7, 3)\n"
     ]
    }
   ],
   "source": [
    "## Hough Circle detection\n",
    "src = cv2.imread('./fig/plates.png', cv2.IMREAD_COLOR)\n",
    "if src is None:\n",
    "    print('Image load failed!')\n",
    "    sys.exit()\n",
    "\n",
    "gray = cv2.cvtColor(src, cv2.COLOR_BGR2GRAY)\n",
    "blr = cv2.GaussianBlur(gray, (0, 0), 1)\n",
    "circles = cv2.HoughCircles(blr, cv2.HOUGH_GRADIENT, 1, \n",
    "                           50, param1=200, param2=100, minRadius=50, maxRadius=150)\n",
    "print('circles.shape:', circles.shape)\n",
    "\n",
    "dst = src.copy()\n",
    "if circles is not None:\n",
    "    for i in range(circles.shape[1]):\n",
    "        cx, cy, radius = circles[0][i]\n",
    "        cv2.circle(dst, (int(cx), int(cy)), int(radius), (0, 0, 255), 2, cv2.LINE_AA)\n",
    "        cv2.circle(dst, (int(cx), int(cy)), 2, (0, 255, 0), 2, cv2.LINE_AA)\n",
    "\n",
    "cv2.imshow('src', src)\n",
    "cv2.imshow('dst', dst)\n",
    "cv2.waitKey()\n",
    "close_window()"
   ]
  },
  {
   "cell_type": "code",
   "execution_count": 38,
   "metadata": {},
   "outputs": [
    {
     "data": {
      "text/plain": [
       "array([[[479.5 , 147.5 , 100.4 ],\n",
       "        [204.5 , 333.5 ,  78.6 ],\n",
       "        [113.5 , 112.5 ,  64.4 ],\n",
       "        [236.5 , 180.5 ,  61.5 ],\n",
       "        [668.5 , 231.5 ,  97.3 ],\n",
       "        [525.5 , 330.5 ,  59.7 ],\n",
       "        [316.5 ,  76.5 ,  50.25]]], dtype=float32)"
      ]
     },
     "execution_count": 38,
     "metadata": {},
     "output_type": "execute_result"
    }
   ],
   "source": [
    "circles # 원좌표 (cx, cy, radius)"
   ]
  },
  {
   "cell_type": "code",
   "execution_count": 49,
   "metadata": {},
   "outputs": [
    {
     "name": "stdout",
     "output_type": "stream",
     "text": [
      "cnt: 124\n"
     ]
    }
   ],
   "source": [
    "## 연결 객체 검출: 레이블링\n",
    "src = cv2.imread('./fig/keyboard.jpg')\n",
    "src_gray = cv2.cvtColor(src, cv2.COLOR_BGR2GRAY)\n",
    "\n",
    "# mask 하는 이유는 흰색을 255(컴퓨터는 255를 물채로 인식)로 하고 \n",
    "# 검은색을 0으로 하기 위해서임\n",
    "_, mask = cv2.threshold(src_gray, 120, 255, cv2.THRESH_BINARY_INV) \n",
    "cnt, labels, stats, centroids = cv2.connectedComponentsWithStats(mask)\n",
    "\n",
    "# cnt\n",
    "print('cnt:', cnt)\n",
    "\n",
    "for i in range(1, cnt):\n",
    "    (x, y, w, h, area) = stats[i]\n",
    "    if area <= 200:\n",
    "        continue\n",
    "    cv2.rectangle(src, (x, y, w, h), (0, 0, 255), 2)\n",
    "    cv2.putText(src, str(i), (x, y - 5), cv2.FONT_HERSHEY_SIMPLEX, 0.5, (0, 0, 255), 1)\n",
    "\n",
    "cv2.imshow('src', src)\n",
    "cv2.imshow('mask', mask)\n",
    "cv2.imshow('src_gray', src_gray)\n",
    "\n",
    "cv2.waitKey()\n",
    "close_window()\n",
    "\n"
   ]
  }
 ],
 "metadata": {
  "kernelspec": {
   "display_name": "base",
   "language": "python",
   "name": "python3"
  },
  "language_info": {
   "codemirror_mode": {
    "name": "ipython",
    "version": 3
   },
   "file_extension": ".py",
   "mimetype": "text/x-python",
   "name": "python",
   "nbconvert_exporter": "python",
   "pygments_lexer": "ipython3",
   "version": "3.12.2"
  }
 },
 "nbformat": 4,
 "nbformat_minor": 2
}
